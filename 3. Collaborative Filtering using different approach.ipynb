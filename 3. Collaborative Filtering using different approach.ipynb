{
 "cells": [
  {
   "cell_type": "code",
   "execution_count": 1,
   "metadata": {},
   "outputs": [],
   "source": [
    "import numpy as np\n",
    "import pandas as pd\n",
    "import re\n",
    "import seaborn as sns\n",
    "import matplotlib.pyplot as plt\n",
    "from sklearn.neighbors import NearestNeighbors\n",
    "from scipy.sparse import csr_matrix\n",
    "from sklearn.model_selection import train_test_split\n",
    "from sklearn.metrics.pairwise import pairwise_distances\n",
    "from sklearn.metrics import mean_squared_error\n",
    "from math import sqrt\n",
    "from sklearn.metrics import mean_absolute_error\n",
    "import scipy.sparse as sp\n",
    "from scipy.sparse.linalg import svds\n",
    "from surprise import SVD\n",
    "from surprise import NMF\n",
    "from surprise.model_selection import cross_validate\n",
    "from surprise import Dataset\n",
    "from surprise import Reader\n",
    "from surprise.model_selection import GridSearchCV\n",
    "from surprise import KNNWithMeans\n",
    "from surprise.model_selection import KFold\n",
    "from surprise import accuracy\n",
    "from sklearn.feature_extraction.text import TfidfVectorizer\n",
    "from nltk.corpus import stopwords \n",
    "from nltk.tokenize import WordPunctTokenizer"
   ]
  },
  {
   "cell_type": "code",
   "execution_count": 2,
   "metadata": {},
   "outputs": [
    {
     "data": {
      "text/plain": [
       "(107128, 6)"
      ]
     },
     "execution_count": 2,
     "metadata": {},
     "output_type": "execute_result"
    }
   ],
   "source": [
    "df_restaurant_reviews = pd.read_pickle(\"df_restaurant_reviews.pkl\")\n",
    "df_restaurant_reviews.shape"
   ]
  },
  {
   "cell_type": "code",
   "execution_count": 3,
   "metadata": {},
   "outputs": [
    {
     "data": {
      "text/plain": [
       "Index(['review_id', 'user_id', 'business_id', 'stars', 'date', 'text'], dtype='object')"
      ]
     },
     "execution_count": 3,
     "metadata": {},
     "output_type": "execute_result"
    }
   ],
   "source": [
    "df_restaurant_reviews.columns"
   ]
  },
  {
   "cell_type": "code",
   "execution_count": 4,
   "metadata": {},
   "outputs": [],
   "source": [
    "df_restaurant_reviews['year'] = df_restaurant_reviews['date'].map(lambda x: x.strftime('%Y'))"
   ]
  },
  {
   "cell_type": "code",
   "execution_count": 5,
   "metadata": {},
   "outputs": [
    {
     "data": {
      "text/plain": [
       "Index(['review_id', 'user_id', 'business_id', 'stars', 'date', 'text', 'year'], dtype='object')"
      ]
     },
     "execution_count": 5,
     "metadata": {},
     "output_type": "execute_result"
    }
   ],
   "source": [
    "df_restaurant_reviews.drop(columns=['date'])\n",
    "df_restaurant_reviews.columns"
   ]
  },
  {
   "cell_type": "code",
   "execution_count": 6,
   "metadata": {},
   "outputs": [],
   "source": [
    "year_count = df_restaurant_reviews[['review_id','year']].groupby('year').count().reset_index()"
   ]
  },
  {
   "cell_type": "markdown",
   "metadata": {},
   "source": [
    "## Yearwise count of reviews"
   ]
  },
  {
   "cell_type": "code",
   "execution_count": 7,
   "metadata": {},
   "outputs": [
    {
     "data": {
      "image/png": "[encoded data removed]",
      "text/plain": [
       "<Figure size 432x288 with 1 Axes>"
      ]
     },
     "metadata": {
      "needs_background": "light"
     },
     "output_type": "display_data"
    }
   ],
   "source": [
    "plt.plot(year_count['year'],year_count['review_id'])\n",
    "plt.show()"
   ]
  },
  {
   "cell_type": "markdown",
   "metadata": {},
   "source": [
    "## Count of reviews over time"
   ]
  },
  {
   "cell_type": "code",
   "execution_count": 8,
   "metadata": {},
   "outputs": [],
   "source": [
    "temp=year_count.review_id.cumsum()"
   ]
  },
  {
   "cell_type": "code",
   "execution_count": 9,
   "metadata": {},
   "outputs": [
    {
     "data": {
      "image/png": "[encoded data removed]",
      "text/plain": [
       "<Figure size 432x288 with 1 Axes>"
      ]
     },
     "metadata": {
      "needs_background": "light"
     },
     "output_type": "display_data"
    }
   ],
   "source": [
    "plt.plot(year_count['year'],temp)\n",
    "plt.show()"
   ]
  },
  {
   "cell_type": "code",
   "execution_count": 10,
   "metadata": {},
   "outputs": [],
   "source": [
    "df_restaurant_reviews=df_restaurant_reviews[['user_id', 'business_id', 'stars','year']]"
   ]
  },
  {
   "cell_type": "code",
   "execution_count": 11,
   "metadata": {},
   "outputs": [
    {
     "data": {
      "text/plain": [
       "Index(['user_id', 'business_id', 'stars', 'year'], dtype='object')"
      ]
     },
     "execution_count": 11,
     "metadata": {},
     "output_type": "execute_result"
    }
   ],
   "source": [
    "df_restaurant_reviews.columns"
   ]
  },
  {
   "cell_type": "code",
   "execution_count": 12,
   "metadata": {},
   "outputs": [],
   "source": [
    "total_users=df_restaurant_reviews.user_id.nunique()\n",
    "total_business=df_restaurant_reviews.business_id.nunique()"
   ]
  },
  {
   "cell_type": "code",
   "execution_count": 13,
   "metadata": {},
   "outputs": [
    {
     "data": {
      "text/plain": [
       "1561"
      ]
     },
     "execution_count": 13,
     "metadata": {},
     "output_type": "execute_result"
    }
   ],
   "source": [
    "total_users"
   ]
  },
  {
   "cell_type": "code",
   "execution_count": 14,
   "metadata": {},
   "outputs": [
    {
     "data": {
      "text/plain": [
       "6012"
      ]
     },
     "execution_count": 14,
     "metadata": {},
     "output_type": "execute_result"
    }
   ],
   "source": [
    "total_business"
   ]
  },
  {
   "cell_type": "code",
   "execution_count": 16,
   "metadata": {},
   "outputs": [
    {
     "data": {
      "text/plain": [
       "user_id        object\n",
       "business_id    object\n",
       "stars           int64\n",
       "year           object\n",
       "dtype: object"
      ]
     },
     "execution_count": 16,
     "metadata": {},
     "output_type": "execute_result"
    }
   ],
   "source": [
    "df_restaurant_reviews.dtypes"
   ]
  },
  {
   "cell_type": "code",
   "execution_count": 17,
   "metadata": {},
   "outputs": [
    {
     "data": {
      "text/plain": [
       "user_id        object\n",
       "business_id    object\n",
       "stars           int64\n",
       "year            int32\n",
       "dtype: object"
      ]
     },
     "execution_count": 17,
     "metadata": {},
     "output_type": "execute_result"
    }
   ],
   "source": [
    "df_restaurant_reviews[\"year\"] = df_restaurant_reviews[\"year\"].astype(str).astype(int)\n",
    "df_restaurant_reviews.dtypes"
   ]
  },
  {
   "cell_type": "code",
   "execution_count": 18,
   "metadata": {},
   "outputs": [
    {
     "data": {
      "text/plain": [
       "(107128, 4)"
      ]
     },
     "execution_count": 18,
     "metadata": {},
     "output_type": "execute_result"
    }
   ],
   "source": [
    "df_restaurant_reviews.shape"
   ]
  },
  {
   "cell_type": "code",
   "execution_count": 19,
   "metadata": {},
   "outputs": [],
   "source": [
    "temp=df_restaurant_reviews.copy(deep=True)"
   ]
  },
  {
   "cell_type": "code",
   "execution_count": 20,
   "metadata": {},
   "outputs": [],
   "source": [
    "temp=temp[['user_id','business_id','stars']]"
   ]
  },
  {
   "cell_type": "code",
   "execution_count": 21,
   "metadata": {},
   "outputs": [
    {
     "data": {
      "text/plain": [
       "Index(['user_id', 'business_id', 'stars'], dtype='object')"
      ]
     },
     "execution_count": 21,
     "metadata": {},
     "output_type": "execute_result"
    }
   ],
   "source": [
    "temp.columns"
   ]
  },
  {
   "cell_type": "code",
   "execution_count": 22,
   "metadata": {},
   "outputs": [
    {
     "data": {
      "text/plain": [
       "Index(['user_id', 'business_id', 'stars', 'year'], dtype='object')"
      ]
     },
     "execution_count": 22,
     "metadata": {},
     "output_type": "execute_result"
    }
   ],
   "source": [
    "df_restaurant_reviews.columns"
   ]
  },
  {
   "cell_type": "code",
   "execution_count": 23,
   "metadata": {},
   "outputs": [
    {
     "data": {
      "text/html": [
       "<div>\n",
       "<style scoped>\n",
       "    .dataframe tbody tr th:only-of-type {\n",
       "        vertical-align: middle;\n",
       "    }\n",
       "\n",
       "    .dataframe tbody tr th {\n",
       "        vertical-align: top;\n",
       "    }\n",
       "\n",
       "    .dataframe thead th {\n",
       "        text-align: right;\n",
       "    }\n",
       "</style>\n",
       "<table border=\"1\" class=\"dataframe\">\n",
       "  <thead>\n",
       "    <tr style=\"text-align: right;\">\n",
       "      <th></th>\n",
       "      <th>user_id</th>\n",
       "      <th>business_id</th>\n",
       "      <th>stars</th>\n",
       "      <th>year</th>\n",
       "    </tr>\n",
       "  </thead>\n",
       "  <tbody>\n",
       "    <tr>\n",
       "      <th>32</th>\n",
       "      <td>H3wPBzQCKCKiHcV7GZK4kg</td>\n",
       "      <td>LkMtMHVetws5_7QfRjPtlg</td>\n",
       "      <td>2</td>\n",
       "      <td>2011</td>\n",
       "    </tr>\n",
       "  </tbody>\n",
       "</table>\n",
       "</div>"
      ],
      "text/plain": [
       "                   user_id             business_id  stars  year\n",
       "32  H3wPBzQCKCKiHcV7GZK4kg  LkMtMHVetws5_7QfRjPtlg      2  2011"
      ]
     },
     "execution_count": 23,
     "metadata": {},
     "output_type": "execute_result"
    }
   ],
   "source": [
    "## Setting ratings training data after 2017 to zero for unbiased testing\n",
    "tr=df_restaurant_reviews.copy(deep=True)\n",
    "tr.loc[(tr.year>2017),'stars']= 0\n",
    "tr.head(1)"
   ]
  },
  {
   "cell_type": "code",
   "execution_count": 24,
   "metadata": {},
   "outputs": [],
   "source": [
    "te=df_restaurant_reviews.copy(deep=True)"
   ]
  },
  {
   "cell_type": "code",
   "execution_count": 26,
   "metadata": {},
   "outputs": [],
   "source": [
    "reader = Reader(rating_scale=(1, 5))\n",
    "data = Dataset.load_from_df(temp[[\"user_id\", \"business_id\", \"stars\"]], reader)"
   ]
  },
  {
   "cell_type": "markdown",
   "metadata": {},
   "source": [
    "## Collaborative Filtering using Memory Based KNN - Evaluation"
   ]
  },
  {
   "cell_type": "code",
   "execution_count": 27,
   "metadata": {},
   "outputs": [],
   "source": [
    "reader = Reader(rating_scale=(1, 5))\n",
    "tr = Dataset.load_from_df(tr[[\"user_id\", \"business_id\", \"stars\"]], reader)\n",
    "te = Dataset.load_from_df(te[[\"user_id\", \"business_id\", \"stars\"]], reader)"
   ]
  },
  {
   "cell_type": "code",
   "execution_count": 28,
   "metadata": {},
   "outputs": [],
   "source": [
    "similarity_user=[]\n",
    "similarity_item=[]\n",
    "rmse_user=[]\n",
    "mse_user=[]\n",
    "mae_user=[]\n",
    "rmse_item=[]\n",
    "mse_item=[]\n",
    "mae_item=[]"
   ]
  },
  {
   "cell_type": "code",
   "execution_count": 29,
   "metadata": {},
   "outputs": [
    {
     "name": "stdout",
     "output_type": "stream",
     "text": [
      "Computing the cosine similarity matrix...\n"
     ]
    },
    {
     "name": "stderr",
     "output_type": "stream",
     "text": [
      "C:\\Users\\Sanket Pandilwar\\Anaconda3\\lib\\site-packages\\surprise\\prediction_algorithms\\algo_base.py:248: RuntimeWarning: invalid value encountered in double_scalars\n",
      "  sim = construction_func[name](*args)\n"
     ]
    },
    {
     "name": "stdout",
     "output_type": "stream",
     "text": [
      "Done computing similarity matrix.\n",
      "Accuracy for  cosine True\n",
      "RMSE: 1.4969\n",
      "MSE: 2.2407\n",
      "MAE:  1.1106\n",
      "Computing the pearson similarity matrix...\n",
      "Done computing similarity matrix.\n",
      "Accuracy for  pearson True\n",
      "RMSE: 1.4309\n",
      "MSE: 2.0475\n",
      "MAE:  0.9740\n",
      "Computing the msd similarity matrix...\n",
      "Done computing similarity matrix.\n",
      "Accuracy for  msd True\n",
      "RMSE: 1.4657\n",
      "MSE: 2.1482\n",
      "MAE:  1.0462\n",
      "Computing the cosine similarity matrix...\n",
      "Done computing similarity matrix.\n",
      "Accuracy for  cosine False\n",
      "RMSE: 1.4626\n",
      "MSE: 2.1391\n",
      "MAE:  1.0467\n",
      "Computing the pearson similarity matrix...\n",
      "Done computing similarity matrix.\n",
      "Accuracy for  pearson False\n",
      "RMSE: 1.4392\n",
      "MSE: 2.0714\n",
      "MAE:  0.9526\n",
      "Computing the msd similarity matrix...\n",
      "Done computing similarity matrix.\n",
      "Accuracy for  msd False\n",
      "RMSE: 1.4493\n",
      "MSE: 2.1004\n",
      "MAE:  0.9912\n"
     ]
    }
   ],
   "source": [
    "user=[True,False]\n",
    "name_name=[\"cosine\",\"pearson\",\"msd\"]\n",
    "\n",
    "for user_based in user:\n",
    "    for name in name_name:\n",
    "        sim_options = {\n",
    "            \"name\": name,\n",
    "            \"min_support\": 3,\n",
    "            \"user_based\": user_based\n",
    "        }\n",
    "        \n",
    "        algo = KNNWithMeans(sim_options=sim_options)\n",
    "        trainset = tr.build_full_trainset()\n",
    "        testset = te.build_full_trainset()\n",
    "        testset=testset.build_testset()\n",
    "        algo.fit(trainset)\n",
    "        predictions = algo.test(testset)\n",
    "        print(\"Accuracy for \",name,user_based)\n",
    "        rmse=accuracy.rmse(predictions, verbose=True)\n",
    "        mse=accuracy.mse(predictions, verbose=True)\n",
    "        mae=accuracy.mae(predictions, verbose=True)\n",
    "        if(user_based==True):\n",
    "            similarity_user.append(name)\n",
    "            rmse_user.append(rmse)\n",
    "            mse_user.append(mse)\n",
    "            mae_user.append(mae)\n",
    "        else:\n",
    "            similarity_item.append(name)\n",
    "            rmse_item.append(rmse)\n",
    "            mse_item.append(mse)\n",
    "            mae_item.append(mae)"
   ]
  },
  {
   "cell_type": "code",
   "execution_count": 48,
   "metadata": {},
   "outputs": [
    {
     "data": {
      "image/png": "[encoded data removed]",
      "text/plain": [
       "<Figure size 576x360 with 1 Axes>"
      ]
     },
     "metadata": {
      "needs_background": "light"
     },
     "output_type": "display_data"
    },
    {
     "data": {
      "image/png": "[encoded data removed]",
      "text/plain": [
       "<Figure size 576x360 with 1 Axes>"
      ]
     },
     "metadata": {
      "needs_background": "light"
     },
     "output_type": "display_data"
    }
   ],
   "source": [
    "plt.xlabel(\"Similarity Measures\")\n",
    "plt.ylabel(\"RMSE\")\n",
    "plt.rcParams[\"figure.figsize\"] = (8,5)\n",
    "\n",
    "plt.plot(similarity_user,rmse_user,color=\"darkblue\",marker='o')\n",
    "plt.plot(similarity_user,mse_user,color=\"cyan\",marker='o')\n",
    "plt.plot(similarity_user,mae_user,color=\"brown\",marker='o')\n",
    "plt.title(\"User Based CF\")\n",
    "plt.legend([\"RMSE\",\"MSE\",\"MAE\"])\n",
    "plt.show()\n",
    "\n",
    "plt.xlabel(\"Similarity Measures\")\n",
    "plt.ylabel(\"RMSE\")\n",
    "plt.rcParams[\"figure.figsize\"] = (8,5)\n",
    "plt.plot(similarity_item,rmse_item,color=\"darkblue\",marker='o')\n",
    "plt.plot(similarity_item,mse_item,color=\"cyan\",marker='o')\n",
    "plt.plot(similarity_item,mae_item,color=\"brown\",marker='o')\n",
    "plt.title(\"Item Based CF\")\n",
    "plt.legend([\"RMSE\",\"MSE\",\"MAE\"])\n",
    "plt.show()"
   ]
  },
  {
   "cell_type": "markdown",
   "metadata": {},
   "source": [
    "## Grid Search to find best set of params for Memory Based KNN"
   ]
  },
  {
   "cell_type": "code",
   "execution_count": 32,
   "metadata": {},
   "outputs": [
    {
     "name": "stdout",
     "output_type": "stream",
     "text": [
      "Computing the msd similarity matrix...\n",
      "Done computing similarity matrix.\n",
      "Computing the msd similarity matrix...\n",
      "Done computing similarity matrix.\n",
      "Computing the msd similarity matrix...\n",
      "Done computing similarity matrix.\n",
      "Computing the msd similarity matrix...\n",
      "Done computing similarity matrix.\n",
      "Computing the msd similarity matrix...\n",
      "Done computing similarity matrix.\n",
      "Computing the msd similarity matrix...\n",
      "Done computing similarity matrix.\n",
      "Computing the msd similarity matrix...\n",
      "Done computing similarity matrix.\n",
      "Computing the msd similarity matrix...\n",
      "Done computing similarity matrix.\n",
      "Computing the msd similarity matrix...\n",
      "Done computing similarity matrix.\n",
      "Computing the msd similarity matrix...\n",
      "Done computing similarity matrix.\n",
      "Computing the msd similarity matrix...\n",
      "Done computing similarity matrix.\n",
      "Computing the msd similarity matrix...\n",
      "Done computing similarity matrix.\n",
      "Computing the msd similarity matrix...\n",
      "Done computing similarity matrix.\n",
      "Computing the msd similarity matrix...\n",
      "Done computing similarity matrix.\n",
      "Computing the msd similarity matrix...\n",
      "Done computing similarity matrix.\n",
      "Computing the msd similarity matrix...\n",
      "Done computing similarity matrix.\n",
      "Computing the msd similarity matrix...\n",
      "Done computing similarity matrix.\n",
      "Computing the msd similarity matrix...\n",
      "Done computing similarity matrix.\n",
      "Computing the msd similarity matrix...\n",
      "Done computing similarity matrix.\n",
      "Computing the msd similarity matrix...\n",
      "Done computing similarity matrix.\n",
      "Computing the msd similarity matrix...\n",
      "Done computing similarity matrix.\n",
      "Computing the msd similarity matrix...\n",
      "Done computing similarity matrix.\n",
      "Computing the msd similarity matrix...\n",
      "Done computing similarity matrix.\n",
      "Computing the msd similarity matrix...\n",
      "Done computing similarity matrix.\n",
      "Computing the msd similarity matrix...\n",
      "Done computing similarity matrix.\n",
      "Computing the msd similarity matrix...\n",
      "Done computing similarity matrix.\n",
      "Computing the msd similarity matrix...\n",
      "Done computing similarity matrix.\n",
      "Computing the msd similarity matrix...\n",
      "Done computing similarity matrix.\n",
      "Computing the msd similarity matrix...\n",
      "Done computing similarity matrix.\n",
      "Computing the msd similarity matrix...\n",
      "Done computing similarity matrix.\n",
      "Computing the cosine similarity matrix...\n",
      "Done computing similarity matrix.\n",
      "Computing the cosine similarity matrix...\n",
      "Done computing similarity matrix.\n",
      "Computing the cosine similarity matrix...\n",
      "Done computing similarity matrix.\n",
      "Computing the cosine similarity matrix...\n",
      "Done computing similarity matrix.\n",
      "Computing the cosine similarity matrix...\n",
      "Done computing similarity matrix.\n",
      "Computing the cosine similarity matrix...\n",
      "Done computing similarity matrix.\n",
      "Computing the cosine similarity matrix...\n",
      "Done computing similarity matrix.\n",
      "Computing the cosine similarity matrix...\n",
      "Done computing similarity matrix.\n",
      "Computing the cosine similarity matrix...\n",
      "Done computing similarity matrix.\n",
      "Computing the cosine similarity matrix...\n",
      "Done computing similarity matrix.\n",
      "Computing the cosine similarity matrix...\n",
      "Done computing similarity matrix.\n",
      "Computing the cosine similarity matrix...\n",
      "Done computing similarity matrix.\n",
      "Computing the cosine similarity matrix...\n",
      "Done computing similarity matrix.\n",
      "Computing the cosine similarity matrix...\n",
      "Done computing similarity matrix.\n",
      "Computing the cosine similarity matrix...\n",
      "Done computing similarity matrix.\n",
      "Computing the cosine similarity matrix...\n",
      "Done computing similarity matrix.\n",
      "Computing the cosine similarity matrix...\n",
      "Done computing similarity matrix.\n",
      "Computing the cosine similarity matrix...\n",
      "Done computing similarity matrix.\n",
      "Computing the cosine similarity matrix...\n",
      "Done computing similarity matrix.\n",
      "Computing the cosine similarity matrix...\n",
      "Done computing similarity matrix.\n",
      "Computing the cosine similarity matrix...\n",
      "Done computing similarity matrix.\n",
      "Computing the cosine similarity matrix...\n",
      "Done computing similarity matrix.\n",
      "Computing the cosine similarity matrix...\n",
      "Done computing similarity matrix.\n",
      "Computing the cosine similarity matrix...\n",
      "Done computing similarity matrix.\n",
      "Computing the cosine similarity matrix...\n",
      "Done computing similarity matrix.\n",
      "Computing the cosine similarity matrix...\n",
      "Done computing similarity matrix.\n",
      "Computing the cosine similarity matrix...\n",
      "Done computing similarity matrix.\n",
      "Computing the cosine similarity matrix...\n",
      "Done computing similarity matrix.\n",
      "Computing the cosine similarity matrix...\n",
      "Done computing similarity matrix.\n",
      "Computing the cosine similarity matrix...\n",
      "Done computing similarity matrix.\n",
      "Computing the pearson similarity matrix...\n",
      "Done computing similarity matrix.\n",
      "Computing the pearson similarity matrix...\n",
      "Done computing similarity matrix.\n",
      "Computing the pearson similarity matrix...\n",
      "Done computing similarity matrix.\n",
      "Computing the pearson similarity matrix...\n",
      "Done computing similarity matrix.\n",
      "Computing the pearson similarity matrix...\n",
      "Done computing similarity matrix.\n",
      "Computing the pearson similarity matrix...\n",
      "Done computing similarity matrix.\n",
      "Computing the pearson similarity matrix...\n",
      "Done computing similarity matrix.\n",
      "Computing the pearson similarity matrix...\n",
      "Done computing similarity matrix.\n",
      "Computing the pearson similarity matrix...\n",
      "Done computing similarity matrix.\n",
      "Computing the pearson similarity matrix...\n",
      "Done computing similarity matrix.\n",
      "Computing the pearson similarity matrix...\n",
      "Done computing similarity matrix.\n",
      "Computing the pearson similarity matrix...\n",
      "Done computing similarity matrix.\n",
      "Computing the pearson similarity matrix...\n",
      "Done computing similarity matrix.\n",
      "Computing the pearson similarity matrix...\n",
      "Done computing similarity matrix.\n",
      "Computing the pearson similarity matrix...\n",
      "Done computing similarity matrix.\n",
      "Computing the pearson similarity matrix...\n",
      "Done computing similarity matrix.\n",
      "Computing the pearson similarity matrix...\n",
      "Done computing similarity matrix.\n",
      "Computing the pearson similarity matrix...\n",
      "Done computing similarity matrix.\n",
      "Computing the pearson similarity matrix...\n",
      "Done computing similarity matrix.\n",
      "Computing the pearson similarity matrix...\n",
      "Done computing similarity matrix.\n",
      "Computing the pearson similarity matrix...\n",
      "Done computing similarity matrix.\n",
      "Computing the pearson similarity matrix...\n",
      "Done computing similarity matrix.\n",
      "Computing the pearson similarity matrix...\n",
      "Done computing similarity matrix.\n",
      "Computing the pearson similarity matrix...\n",
      "Done computing similarity matrix.\n",
      "Computing the pearson similarity matrix...\n",
      "Done computing similarity matrix.\n",
      "Computing the pearson similarity matrix...\n",
      "Done computing similarity matrix.\n",
      "Computing the pearson similarity matrix...\n",
      "Done computing similarity matrix.\n",
      "Computing the pearson similarity matrix...\n",
      "Done computing similarity matrix.\n",
      "Computing the pearson similarity matrix...\n",
      "Done computing similarity matrix.\n",
      "Computing the pearson similarity matrix...\n",
      "Done computing similarity matrix.\n",
      "1.0008027509399238\n",
      "{'sim_options': {'name': 'msd', 'min_support': 3, 'user_based': True}}\n"
     ]
    }
   ],
   "source": [
    "sim_options = {\n",
    "    \"name\": [\"msd\", \"cosine\", \"pearson\"],\n",
    "    \"min_support\": [3, 4, 5],\n",
    "    \"user_based\": [False, True],\n",
    "}\n",
    "\n",
    "param_grid = {\"sim_options\": sim_options}\n",
    "\n",
    "gs = GridSearchCV(KNNWithMeans, param_grid, measures=[\"rmse\", \"mae\"], cv=5)\n",
    "gs.fit(data)\n",
    "\n",
    "print(gs.best_score[\"rmse\"])\n",
    "print(gs.best_params[\"rmse\"])"
   ]
  },
  {
   "cell_type": "markdown",
   "metadata": {},
   "source": [
    "## Grid Search to find best set of params for Model Based SVD"
   ]
  },
  {
   "cell_type": "code",
   "execution_count": 34,
   "metadata": {},
   "outputs": [
    {
     "name": "stdout",
     "output_type": "stream",
     "text": [
      "0.9729767140598804\n",
      "{'n_epochs': 20, 'lr_all': 0.005, 'reg_all': 0.2}\n"
     ]
    }
   ],
   "source": [
    "param_grid = {\n",
    "    \"n_epochs\": [5, 10, 20],\n",
    "    \"lr_all\": [0.002, 0.005],\n",
    "    \"reg_all\": [0.2, 0.4, 0.6]\n",
    "}\n",
    "gs = GridSearchCV(SVD, param_grid, measures=[\"rmse\", \"mae\"], cv=5)\n",
    "\n",
    "gs.fit(data)\n",
    "\n",
    "print(gs.best_score[\"rmse\"])\n",
    "print(gs.best_params[\"rmse\"])"
   ]
  },
  {
   "cell_type": "markdown",
   "metadata": {},
   "source": [
    "## Item-Based Collaborative Filtering using ratings"
   ]
  },
  {
   "cell_type": "code",
   "execution_count": 35,
   "metadata": {},
   "outputs": [],
   "source": [
    "business= pd.read_json(\"yelp_academic_dataset_business.json\",encoding=\"utf8\",lines=True)"
   ]
  },
  {
   "cell_type": "code",
   "execution_count": 36,
   "metadata": {},
   "outputs": [
    {
     "data": {
      "text/plain": [
       "Index(['address', 'attributes', 'business_id', 'categories', 'city', 'hours',\n",
       "       'is_open', 'latitude', 'longitude', 'name', 'postal_code',\n",
       "       'review_count', 'stars', 'state'],\n",
       "      dtype='object')"
      ]
     },
     "execution_count": 36,
     "metadata": {},
     "output_type": "execute_result"
    }
   ],
   "source": [
    "business.columns"
   ]
  },
  {
   "cell_type": "code",
   "execution_count": 37,
   "metadata": {},
   "outputs": [],
   "source": [
    "business=business[business.business_id.isin(df_restaurant_reviews.business_id)]"
   ]
  },
  {
   "cell_type": "code",
   "execution_count": 38,
   "metadata": {},
   "outputs": [
    {
     "data": {
      "text/plain": [
       "(6012, 14)"
      ]
     },
     "execution_count": 38,
     "metadata": {},
     "output_type": "execute_result"
    }
   ],
   "source": [
    "business.shape"
   ]
  },
  {
   "cell_type": "code",
   "execution_count": 39,
   "metadata": {},
   "outputs": [],
   "source": [
    "business=business[['business_id','name']]"
   ]
  },
  {
   "cell_type": "code",
   "execution_count": 40,
   "metadata": {},
   "outputs": [
    {
     "data": {
      "text/html": [
       "<div>\n",
       "<style scoped>\n",
       "    .dataframe tbody tr th:only-of-type {\n",
       "        vertical-align: middle;\n",
       "    }\n",
       "\n",
       "    .dataframe tbody tr th {\n",
       "        vertical-align: top;\n",
       "    }\n",
       "\n",
       "    .dataframe thead th {\n",
       "        text-align: right;\n",
       "    }\n",
       "</style>\n",
       "<table border=\"1\" class=\"dataframe\">\n",
       "  <thead>\n",
       "    <tr style=\"text-align: right;\">\n",
       "      <th></th>\n",
       "      <th>business_id</th>\n",
       "      <th>name</th>\n",
       "    </tr>\n",
       "  </thead>\n",
       "  <tbody>\n",
       "    <tr>\n",
       "      <th>36</th>\n",
       "      <td>fnZrZlqW1Z8iWgTVDfv_MA</td>\n",
       "      <td>Carl's Jr</td>\n",
       "    </tr>\n",
       "    <tr>\n",
       "      <th>42</th>\n",
       "      <td>fhNf_sg-XzZ3e7HEVGuOZg</td>\n",
       "      <td>Meat Chix And Wieners</td>\n",
       "    </tr>\n",
       "    <tr>\n",
       "      <th>86</th>\n",
       "      <td>OWkS1FXNJbozn-qPg3LWxg</td>\n",
       "      <td>Mama Napoli Pizza</td>\n",
       "    </tr>\n",
       "    <tr>\n",
       "      <th>101</th>\n",
       "      <td>MTx-Zdl_KcU_z9G832XAjg</td>\n",
       "      <td>Taco Bell</td>\n",
       "    </tr>\n",
       "    <tr>\n",
       "      <th>130</th>\n",
       "      <td>Q_dh08clYUPj13GmCRzIVA</td>\n",
       "      <td>Kulinarya Express Filipino Kitchen</td>\n",
       "    </tr>\n",
       "  </tbody>\n",
       "</table>\n",
       "</div>"
      ],
      "text/plain": [
       "                business_id                                name\n",
       "36   fnZrZlqW1Z8iWgTVDfv_MA                           Carl's Jr\n",
       "42   fhNf_sg-XzZ3e7HEVGuOZg               Meat Chix And Wieners\n",
       "86   OWkS1FXNJbozn-qPg3LWxg                   Mama Napoli Pizza\n",
       "101  MTx-Zdl_KcU_z9G832XAjg                           Taco Bell\n",
       "130  Q_dh08clYUPj13GmCRzIVA  Kulinarya Express Filipino Kitchen"
      ]
     },
     "execution_count": 40,
     "metadata": {},
     "output_type": "execute_result"
    }
   ],
   "source": [
    "business.head()"
   ]
  },
  {
   "cell_type": "code",
   "execution_count": 41,
   "metadata": {},
   "outputs": [],
   "source": [
    "restaurant_features = df_restaurant_reviews.merge(business, on='business_id', how = 'inner')"
   ]
  },
  {
   "cell_type": "code",
   "execution_count": 42,
   "metadata": {},
   "outputs": [],
   "source": [
    "restaurant_features = restaurant_features.pivot_table(index = 'name', columns = 'user_id', values = 'stars').fillna(0)"
   ]
  },
  {
   "cell_type": "code",
   "execution_count": 179,
   "metadata": {},
   "outputs": [
    {
     "name": "stdout",
     "output_type": "stream",
     "text": [
      "Recommendations for Restaurant Loftti Cafe on priority basis:\n",
      "\n",
      "1: To See Roll\n",
      "2: Brew Tea Bar\n",
      "3: Cafe Summer\n",
      "4: Zen Curry Express\n",
      "5: Snow White Cafe\n",
      "6: Is Sweet\n",
      "7: Cafe 86\n",
      "8: Dirt Dog - Las Vegas\n",
      "9: Tea Space\n",
      "10: Eis Cream Cafe\n"
     ]
    }
   ],
   "source": [
    "from scipy.sparse import csr_matrix\n",
    "restaurant_features_matrix = csr_matrix(restaurant_features.values)\n",
    "\n",
    "from sklearn.neighbors import NearestNeighbors\n",
    "knn_recomm = NearestNeighbors(metric = 'cosine', algorithm = 'brute')\n",
    "knn_recomm.fit(restaurant_features_matrix)\n",
    "\n",
    "Business='Loftti Cafe'\n",
    "randomChoice=restaurant_features.index.tolist().index(Business)\n",
    "distances, indices = knn_recomm.kneighbors(restaurant_features.iloc[randomChoice].values.reshape(1, -1), n_neighbors = 11)\n",
    "for i in range(0, len(distances.flatten())):\n",
    "    if i == 0:\n",
    "        print('Recommendations for Restaurant {0} on priority basis:\\n'.format(restaurant_features.index[randomChoice]))\n",
    "    else:\n",
    "        print('{0}: {1}'.format(i, restaurant_features.index[indices.flatten()[i]]))"
   ]
  },
  {
   "cell_type": "code",
   "execution_count": 195,
   "metadata": {},
   "outputs": [],
   "source": [
    "# Recommendations for Restaurant Chao Thai Restaurant on priority basis:\n",
    "\n",
    "# 1: Rumbi Island Grill\n",
    "# 2: Great Wall Chinese Restaurant\n",
    "# 3: Basil Thai Fusion\n",
    "# 4: Indian Bowl Cuisine\n",
    "# 5: Chevron\n",
    "# 6: Sandwich Carvery 108\n",
    "# 7: San Gennaro Burger\n",
    "# 8: The New Jugoo\n",
    "# 9: Essence of Thai\n",
    "# 10: The Grill\n",
    "    \n",
    "# Recommendations for Restaurant Delhi Indian Cuisine on priority basis:\n",
    "\n",
    "# 1: Big Wong Restaurant\n",
    "# 2: Art of Flavors\n",
    "# 3: Mt Everest India's Cuisine\n",
    "# 4: Mint Indian Bistro\n",
    "# 5: El Cachi Mexican Kitchen\n",
    "# 6: Japanese Cuisine By Omae\n",
    "# 7: SLO-Boy\n",
    "# 8: Indian Bowl Cuisine\n",
    "# 9: Nem Nuong Bistro\n",
    "# 10: Chao Thai Restaurant"
   ]
  },
  {
   "cell_type": "markdown",
   "metadata": {},
   "source": [
    "## Item-based Collaborative filtering using reviews text TF-IDF score"
   ]
  },
  {
   "cell_type": "code",
   "execution_count": 94,
   "metadata": {},
   "outputs": [],
   "source": [
    "yelp_data = new[['business_id', 'user_id', 'stars', 'text']]"
   ]
  },
  {
   "cell_type": "code",
   "execution_count": 95,
   "metadata": {},
   "outputs": [],
   "source": [
    "import string\n",
    "from nltk.corpus import stopwords\n",
    "stop = []\n",
    "for word in stopwords.words('english'):\n",
    "    s = [char for char in word if char not in string.punctuation]\n",
    "    stop.append(''.join(s))"
   ]
  },
  {
   "cell_type": "code",
   "execution_count": 97,
   "metadata": {},
   "outputs": [],
   "source": [
    "def text_process(mess):\n",
    "    \"\"\"\n",
    "    Takes in a string of text, then performs the following:\n",
    "    1. Remove all punctuation\n",
    "    2. Remove all stopwords\n",
    "    3. Returns a list of the cleaned text\n",
    "    \"\"\"\n",
    "    # Check characters to see if they are in punctuation\n",
    "    nopunc = [char for char in mess if char not in string.punctuation]\n",
    "\n",
    "    # Join the characters again to form the string.\n",
    "    nopunc = ''.join(nopunc)\n",
    "    \n",
    "    # Now just remove any stopwords\n",
    "    return \" \".join([word for word in nopunc.split() if word.lower() not in stop])"
   ]
  },
  {
   "cell_type": "code",
   "execution_count": 98,
   "metadata": {},
   "outputs": [
    {
     "name": "stderr",
     "output_type": "stream",
     "text": [
      "C:\\Users\\Sanket Pandilwar\\Anaconda3\\lib\\site-packages\\ipykernel_launcher.py:1: SettingWithCopyWarning: \n",
      "A value is trying to be set on a copy of a slice from a DataFrame.\n",
      "Try using .loc[row_indexer,col_indexer] = value instead\n",
      "\n",
      "See the caveats in the documentation: http://pandas.pydata.org/pandas-docs/stable/indexing.html#indexing-view-versus-copy\n",
      "  \"\"\"Entry point for launching an IPython kernel.\n"
     ]
    }
   ],
   "source": [
    "yelp_data['text'] = yelp_data['text'].apply(text_process)"
   ]
  },
  {
   "cell_type": "code",
   "execution_count": 107,
   "metadata": {},
   "outputs": [],
   "source": [
    "userid_df = yelp_data[['user_id','text']]\n",
    "business_df = yelp_data[['business_id', 'text']]"
   ]
  },
  {
   "cell_type": "code",
   "execution_count": 108,
   "metadata": {},
   "outputs": [],
   "source": [
    "userid_df = userid_df.groupby('user_id').agg({'text': ' '.join})\n",
    "business_df = business_df.groupby('business_id').agg({'text': ' '.join})"
   ]
  },
  {
   "cell_type": "code",
   "execution_count": 114,
   "metadata": {},
   "outputs": [
    {
     "data": {
      "text/plain": [
       "(1561, 5000)"
      ]
     },
     "execution_count": 114,
     "metadata": {},
     "output_type": "execute_result"
    }
   ],
   "source": [
    "userid_vectorizer = TfidfVectorizer(tokenizer = WordPunctTokenizer().tokenize, max_features=5000)\n",
    "userid_vectors = userid_vectorizer.fit_transform(userid_df['text'])\n",
    "userid_vectors.shape"
   ]
  },
  {
   "cell_type": "code",
   "execution_count": 116,
   "metadata": {},
   "outputs": [
    {
     "data": {
      "text/plain": [
       "(6012, 5000)"
      ]
     },
     "execution_count": 116,
     "metadata": {},
     "output_type": "execute_result"
    }
   ],
   "source": [
    "#Business id vectorizer\n",
    "businessid_vectorizer = TfidfVectorizer(tokenizer = WordPunctTokenizer().tokenize, max_features=5000)\n",
    "businessid_vectors = businessid_vectorizer.fit_transform(business_df['text'])\n",
    "businessid_vectors.shape"
   ]
  },
  {
   "cell_type": "code",
   "execution_count": 185,
   "metadata": {},
   "outputs": [],
   "source": [
    "P = pd.DataFrame(userid_vectors.toarray(), index=userid_df.index, columns=userid_vectorizer.get_feature_names())\n",
    "Q = pd.DataFrame(businessid_vectors.toarray(), index=business_df.index, columns=businessid_vectorizer.get_feature_names())"
   ]
  },
  {
   "cell_type": "code",
   "execution_count": 186,
   "metadata": {},
   "outputs": [],
   "source": [
    "xyz=P.dot(Q.T)"
   ]
  },
  {
   "cell_type": "code",
   "execution_count": 187,
   "metadata": {},
   "outputs": [],
   "source": [
    "K=xyz.T"
   ]
  },
  {
   "cell_type": "code",
   "execution_count": 188,
   "metadata": {},
   "outputs": [
    {
     "data": {
      "text/html": [
       "<div>\n",
       "<style scoped>\n",
       "    .dataframe tbody tr th:only-of-type {\n",
       "        vertical-align: middle;\n",
       "    }\n",
       "\n",
       "    .dataframe tbody tr th {\n",
       "        vertical-align: top;\n",
       "    }\n",
       "\n",
       "    .dataframe thead th {\n",
       "        text-align: right;\n",
       "    }\n",
       "</style>\n",
       "<table border=\"1\" class=\"dataframe\">\n",
       "  <thead>\n",
       "    <tr style=\"text-align: right;\">\n",
       "      <th>user_id</th>\n",
       "      <th>-267Yx8RmdP6io2-qI4UcQ</th>\n",
       "      <th>-50XWnmQGqBgEI-9ANvLlg</th>\n",
       "      <th>-8rSnT5ztVk6vmTDkxTqsQ</th>\n",
       "      <th>-9S_Fh-sQebyB1yhEM5zHw</th>\n",
       "      <th>-9WVpTW5LAEo9y6PbW0-cw</th>\n",
       "      <th>-ARdx8hOcEWlMDjzwLYZ_g</th>\n",
       "      <th>-C-l8EHSLXtZZVfUAUhsPA</th>\n",
       "      <th>-EJorVxe7h2GSxdiRyMmDA</th>\n",
       "      <th>-Fy91nyOFqPv9M_MaZ4W2g</th>\n",
       "      <th>-INftgcdy5pCuFuKBBZOmg</th>\n",
       "      <th>...</th>\n",
       "      <th>zXBH5QYe1WJCvQdkYBs9JQ</th>\n",
       "      <th>z_tqPytGQF_tDw_buHKJcw</th>\n",
       "      <th>zbahX7xiLbjWWM4_L43lhg</th>\n",
       "      <th>zgV0ZroIF956gw4cul8MHA</th>\n",
       "      <th>zpwWpno3U-oZaG3AJuKqSQ</th>\n",
       "      <th>zsJLk34mTDMyuVS_EaBLxw</th>\n",
       "      <th>zwhty_ZmxbHAHoDfMjNbag</th>\n",
       "      <th>zwpP3Lt8USKS91Ds52G8UA</th>\n",
       "      <th>zx3y74_pvIRuQSVIrgzCew</th>\n",
       "      <th>zzPvEodjvLPe-5NvV0U_cg</th>\n",
       "    </tr>\n",
       "    <tr>\n",
       "      <th>business_id</th>\n",
       "      <th></th>\n",
       "      <th></th>\n",
       "      <th></th>\n",
       "      <th></th>\n",
       "      <th></th>\n",
       "      <th></th>\n",
       "      <th></th>\n",
       "      <th></th>\n",
       "      <th></th>\n",
       "      <th></th>\n",
       "      <th></th>\n",
       "      <th></th>\n",
       "      <th></th>\n",
       "      <th></th>\n",
       "      <th></th>\n",
       "      <th></th>\n",
       "      <th></th>\n",
       "      <th></th>\n",
       "      <th></th>\n",
       "      <th></th>\n",
       "      <th></th>\n",
       "    </tr>\n",
       "  </thead>\n",
       "  <tbody>\n",
       "    <tr>\n",
       "      <th>--9e1ONYQuAa-CB_Rrw7Tw</th>\n",
       "      <td>0.565643</td>\n",
       "      <td>0.550337</td>\n",
       "      <td>0.210672</td>\n",
       "      <td>0.204591</td>\n",
       "      <td>0.309399</td>\n",
       "      <td>0.139842</td>\n",
       "      <td>0.549991</td>\n",
       "      <td>0.467994</td>\n",
       "      <td>0.518577</td>\n",
       "      <td>0.367320</td>\n",
       "      <td>...</td>\n",
       "      <td>0.206837</td>\n",
       "      <td>0.285518</td>\n",
       "      <td>0.463911</td>\n",
       "      <td>0.448999</td>\n",
       "      <td>0.490713</td>\n",
       "      <td>0.553743</td>\n",
       "      <td>0.524931</td>\n",
       "      <td>0.236899</td>\n",
       "      <td>0.145549</td>\n",
       "      <td>0.492703</td>\n",
       "    </tr>\n",
       "    <tr>\n",
       "      <th>-0RkJ_uIduNLWQrphbADRw</th>\n",
       "      <td>0.439781</td>\n",
       "      <td>0.430723</td>\n",
       "      <td>0.186420</td>\n",
       "      <td>0.110904</td>\n",
       "      <td>0.243027</td>\n",
       "      <td>0.128834</td>\n",
       "      <td>0.413397</td>\n",
       "      <td>0.356621</td>\n",
       "      <td>0.451406</td>\n",
       "      <td>0.289219</td>\n",
       "      <td>...</td>\n",
       "      <td>0.174839</td>\n",
       "      <td>0.242829</td>\n",
       "      <td>0.349582</td>\n",
       "      <td>0.393340</td>\n",
       "      <td>0.374620</td>\n",
       "      <td>0.427854</td>\n",
       "      <td>0.425695</td>\n",
       "      <td>0.221881</td>\n",
       "      <td>0.116419</td>\n",
       "      <td>0.379519</td>\n",
       "    </tr>\n",
       "    <tr>\n",
       "      <th>-1m9o3vGRA8IBPNvNqKLmA</th>\n",
       "      <td>0.466994</td>\n",
       "      <td>0.456438</td>\n",
       "      <td>0.174972</td>\n",
       "      <td>0.175881</td>\n",
       "      <td>0.287233</td>\n",
       "      <td>0.139491</td>\n",
       "      <td>0.476687</td>\n",
       "      <td>0.376524</td>\n",
       "      <td>0.433594</td>\n",
       "      <td>0.296706</td>\n",
       "      <td>...</td>\n",
       "      <td>0.171301</td>\n",
       "      <td>0.247609</td>\n",
       "      <td>0.389300</td>\n",
       "      <td>0.389388</td>\n",
       "      <td>0.409674</td>\n",
       "      <td>0.455255</td>\n",
       "      <td>0.437235</td>\n",
       "      <td>0.206325</td>\n",
       "      <td>0.144996</td>\n",
       "      <td>0.397455</td>\n",
       "    </tr>\n",
       "    <tr>\n",
       "      <th>-1vfRrlnNnNJ5boOVghMPA</th>\n",
       "      <td>0.312360</td>\n",
       "      <td>0.312763</td>\n",
       "      <td>0.119292</td>\n",
       "      <td>0.043154</td>\n",
       "      <td>0.151908</td>\n",
       "      <td>0.061280</td>\n",
       "      <td>0.359668</td>\n",
       "      <td>0.240773</td>\n",
       "      <td>0.298940</td>\n",
       "      <td>0.216795</td>\n",
       "      <td>...</td>\n",
       "      <td>0.102573</td>\n",
       "      <td>0.145998</td>\n",
       "      <td>0.238392</td>\n",
       "      <td>0.304181</td>\n",
       "      <td>0.252447</td>\n",
       "      <td>0.326553</td>\n",
       "      <td>0.275728</td>\n",
       "      <td>0.129639</td>\n",
       "      <td>0.071837</td>\n",
       "      <td>0.321535</td>\n",
       "    </tr>\n",
       "    <tr>\n",
       "      <th>-2nfJ8yK54A7Md2RzmMR4g</th>\n",
       "      <td>0.193512</td>\n",
       "      <td>0.183743</td>\n",
       "      <td>0.045609</td>\n",
       "      <td>0.055048</td>\n",
       "      <td>0.099276</td>\n",
       "      <td>0.044443</td>\n",
       "      <td>0.202865</td>\n",
       "      <td>0.175911</td>\n",
       "      <td>0.209966</td>\n",
       "      <td>0.105847</td>\n",
       "      <td>...</td>\n",
       "      <td>0.069470</td>\n",
       "      <td>0.123049</td>\n",
       "      <td>0.156442</td>\n",
       "      <td>0.179207</td>\n",
       "      <td>0.146516</td>\n",
       "      <td>0.203418</td>\n",
       "      <td>0.195527</td>\n",
       "      <td>0.092207</td>\n",
       "      <td>0.041003</td>\n",
       "      <td>0.186744</td>\n",
       "    </tr>\n",
       "  </tbody>\n",
       "</table>\n",
       "<p>5 rows × 1561 columns</p>\n",
       "</div>"
      ],
      "text/plain": [
       "user_id                 -267Yx8RmdP6io2-qI4UcQ  -50XWnmQGqBgEI-9ANvLlg  \\\n",
       "business_id                                                              \n",
       "--9e1ONYQuAa-CB_Rrw7Tw                0.565643                0.550337   \n",
       "-0RkJ_uIduNLWQrphbADRw                0.439781                0.430723   \n",
       "-1m9o3vGRA8IBPNvNqKLmA                0.466994                0.456438   \n",
       "-1vfRrlnNnNJ5boOVghMPA                0.312360                0.312763   \n",
       "-2nfJ8yK54A7Md2RzmMR4g                0.193512                0.183743   \n",
       "\n",
       "user_id                 -8rSnT5ztVk6vmTDkxTqsQ  -9S_Fh-sQebyB1yhEM5zHw  \\\n",
       "business_id                                                              \n",
       "--9e1ONYQuAa-CB_Rrw7Tw                0.210672                0.204591   \n",
       "-0RkJ_uIduNLWQrphbADRw                0.186420                0.110904   \n",
       "-1m9o3vGRA8IBPNvNqKLmA                0.174972                0.175881   \n",
       "-1vfRrlnNnNJ5boOVghMPA                0.119292                0.043154   \n",
       "-2nfJ8yK54A7Md2RzmMR4g                0.045609                0.055048   \n",
       "\n",
       "user_id                 -9WVpTW5LAEo9y6PbW0-cw  -ARdx8hOcEWlMDjzwLYZ_g  \\\n",
       "business_id                                                              \n",
       "--9e1ONYQuAa-CB_Rrw7Tw                0.309399                0.139842   \n",
       "-0RkJ_uIduNLWQrphbADRw                0.243027                0.128834   \n",
       "-1m9o3vGRA8IBPNvNqKLmA                0.287233                0.139491   \n",
       "-1vfRrlnNnNJ5boOVghMPA                0.151908                0.061280   \n",
       "-2nfJ8yK54A7Md2RzmMR4g                0.099276                0.044443   \n",
       "\n",
       "user_id                 -C-l8EHSLXtZZVfUAUhsPA  -EJorVxe7h2GSxdiRyMmDA  \\\n",
       "business_id                                                              \n",
       "--9e1ONYQuAa-CB_Rrw7Tw                0.549991                0.467994   \n",
       "-0RkJ_uIduNLWQrphbADRw                0.413397                0.356621   \n",
       "-1m9o3vGRA8IBPNvNqKLmA                0.476687                0.376524   \n",
       "-1vfRrlnNnNJ5boOVghMPA                0.359668                0.240773   \n",
       "-2nfJ8yK54A7Md2RzmMR4g                0.202865                0.175911   \n",
       "\n",
       "user_id                 -Fy91nyOFqPv9M_MaZ4W2g  -INftgcdy5pCuFuKBBZOmg  ...  \\\n",
       "business_id                                                             ...   \n",
       "--9e1ONYQuAa-CB_Rrw7Tw                0.518577                0.367320  ...   \n",
       "-0RkJ_uIduNLWQrphbADRw                0.451406                0.289219  ...   \n",
       "-1m9o3vGRA8IBPNvNqKLmA                0.433594                0.296706  ...   \n",
       "-1vfRrlnNnNJ5boOVghMPA                0.298940                0.216795  ...   \n",
       "-2nfJ8yK54A7Md2RzmMR4g                0.209966                0.105847  ...   \n",
       "\n",
       "user_id                 zXBH5QYe1WJCvQdkYBs9JQ  z_tqPytGQF_tDw_buHKJcw  \\\n",
       "business_id                                                              \n",
       "--9e1ONYQuAa-CB_Rrw7Tw                0.206837                0.285518   \n",
       "-0RkJ_uIduNLWQrphbADRw                0.174839                0.242829   \n",
       "-1m9o3vGRA8IBPNvNqKLmA                0.171301                0.247609   \n",
       "-1vfRrlnNnNJ5boOVghMPA                0.102573                0.145998   \n",
       "-2nfJ8yK54A7Md2RzmMR4g                0.069470                0.123049   \n",
       "\n",
       "user_id                 zbahX7xiLbjWWM4_L43lhg  zgV0ZroIF956gw4cul8MHA  \\\n",
       "business_id                                                              \n",
       "--9e1ONYQuAa-CB_Rrw7Tw                0.463911                0.448999   \n",
       "-0RkJ_uIduNLWQrphbADRw                0.349582                0.393340   \n",
       "-1m9o3vGRA8IBPNvNqKLmA                0.389300                0.389388   \n",
       "-1vfRrlnNnNJ5boOVghMPA                0.238392                0.304181   \n",
       "-2nfJ8yK54A7Md2RzmMR4g                0.156442                0.179207   \n",
       "\n",
       "user_id                 zpwWpno3U-oZaG3AJuKqSQ  zsJLk34mTDMyuVS_EaBLxw  \\\n",
       "business_id                                                              \n",
       "--9e1ONYQuAa-CB_Rrw7Tw                0.490713                0.553743   \n",
       "-0RkJ_uIduNLWQrphbADRw                0.374620                0.427854   \n",
       "-1m9o3vGRA8IBPNvNqKLmA                0.409674                0.455255   \n",
       "-1vfRrlnNnNJ5boOVghMPA                0.252447                0.326553   \n",
       "-2nfJ8yK54A7Md2RzmMR4g                0.146516                0.203418   \n",
       "\n",
       "user_id                 zwhty_ZmxbHAHoDfMjNbag  zwpP3Lt8USKS91Ds52G8UA  \\\n",
       "business_id                                                              \n",
       "--9e1ONYQuAa-CB_Rrw7Tw                0.524931                0.236899   \n",
       "-0RkJ_uIduNLWQrphbADRw                0.425695                0.221881   \n",
       "-1m9o3vGRA8IBPNvNqKLmA                0.437235                0.206325   \n",
       "-1vfRrlnNnNJ5boOVghMPA                0.275728                0.129639   \n",
       "-2nfJ8yK54A7Md2RzmMR4g                0.195527                0.092207   \n",
       "\n",
       "user_id                 zx3y74_pvIRuQSVIrgzCew  zzPvEodjvLPe-5NvV0U_cg  \n",
       "business_id                                                             \n",
       "--9e1ONYQuAa-CB_Rrw7Tw                0.145549                0.492703  \n",
       "-0RkJ_uIduNLWQrphbADRw                0.116419                0.379519  \n",
       "-1m9o3vGRA8IBPNvNqKLmA                0.144996                0.397455  \n",
       "-1vfRrlnNnNJ5boOVghMPA                0.071837                0.321535  \n",
       "-2nfJ8yK54A7Md2RzmMR4g                0.041003                0.186744  \n",
       "\n",
       "[5 rows x 1561 columns]"
      ]
     },
     "execution_count": 188,
     "metadata": {},
     "output_type": "execute_result"
    }
   ],
   "source": [
    "K.head()"
   ]
  },
  {
   "cell_type": "code",
   "execution_count": 189,
   "metadata": {},
   "outputs": [
    {
     "name": "stdout",
     "output_type": "stream",
     "text": [
      "Recommendations for Restaurant oUX2bYbqjqST-urKbOHG6w on priority basis:\n",
      "\n",
      "206914    Icy Juicy\n",
      "Name: name, dtype: object\n",
      "160870    La Luna Tea and Dessert Bar\n",
      "Name: name, dtype: object\n",
      "81576    LaPostté\n",
      "Name: name, dtype: object\n",
      "22424    Cafe Summer\n",
      "Name: name, dtype: object\n",
      "119792    Tea Space\n",
      "Name: name, dtype: object\n",
      "158935    Tea Station\n",
      "Name: name, dtype: object\n",
      "33245    Fresh Cup\n",
      "Name: name, dtype: object\n",
      "129960    Ice Monster Cafe\n",
      "Name: name, dtype: object\n",
      "133758    Snow White Cafe\n",
      "Name: name, dtype: object\n",
      "12657    Brew Tea Bar\n",
      "Name: name, dtype: object\n"
     ]
    }
   ],
   "source": [
    "from scipy.sparse import csr_matrix\n",
    "restaurant_features_matrix = csr_matrix(K.values)\n",
    "\n",
    "from sklearn.neighbors import NearestNeighbors\n",
    "knn_recomm = NearestNeighbors(metric = 'cosine', algorithm = 'brute')\n",
    "knn_recomm.fit(restaurant_features_matrix)\n",
    "\n",
    "Business='oUX2bYbqjqST-urKbOHG6w'\n",
    "\n",
    "randomChoice=K.index.tolist().index(Business)\n",
    "distances, indices = knn_recomm.kneighbors(K.iloc[randomChoice].values.reshape(1, -1), n_neighbors = 11)\n",
    "\n",
    "for i in range(0, len(distances.flatten())):\n",
    "    if i == 0:\n",
    "        print('Recommendations for Restaurant {0} on priority basis:\\n'.format(K.index[randomChoice]))\n",
    "    else:\n",
    "#         print(indices.flatten()[i])\n",
    "#         print()\n",
    "        print(business[business.business_id==K.index[indices.flatten()[i]]].name)\n",
    "#         print('{0}: {1}'.format(i, K.index[indices.flatten()[i]]))"
   ]
  },
  {
   "cell_type": "code",
   "execution_count": 177,
   "metadata": {},
   "outputs": [
    {
     "data": {
      "text/html": [
       "<div>\n",
       "<style scoped>\n",
       "    .dataframe tbody tr th:only-of-type {\n",
       "        vertical-align: middle;\n",
       "    }\n",
       "\n",
       "    .dataframe tbody tr th {\n",
       "        vertical-align: top;\n",
       "    }\n",
       "\n",
       "    .dataframe thead th {\n",
       "        text-align: right;\n",
       "    }\n",
       "</style>\n",
       "<table border=\"1\" class=\"dataframe\">\n",
       "  <thead>\n",
       "    <tr style=\"text-align: right;\">\n",
       "      <th></th>\n",
       "      <th>business_id</th>\n",
       "      <th>name</th>\n",
       "    </tr>\n",
       "  </thead>\n",
       "  <tbody>\n",
       "    <tr>\n",
       "      <th>308</th>\n",
       "      <td>oUX2bYbqjqST-urKbOHG6w</td>\n",
       "      <td>Loftti Cafe</td>\n",
       "    </tr>\n",
       "  </tbody>\n",
       "</table>\n",
       "</div>"
      ],
      "text/plain": [
       "                business_id         name\n",
       "308  oUX2bYbqjqST-urKbOHG6w  Loftti Cafe"
      ]
     },
     "execution_count": 177,
     "metadata": {},
     "output_type": "execute_result"
    }
   ],
   "source": [
    "business[business.name=='Loftti Cafe']"
   ]
  },
  {
   "cell_type": "code",
   "execution_count": null,
   "metadata": {},
   "outputs": [],
   "source": [
    "# Recommendations for Restaurant Delhi Indian Cuisine on priority basis:\n",
    "# CF recommendation Using Rating\n",
    "# 1: Big Wong Restaurant\n",
    "# 2: Art of Flavors\n",
    "# 3: Mt Everest India's Cuisine\n",
    "# 4: Mint Indian Bistro\n",
    "# 5: El Cachi Mexican Kitchen\n",
    "# 6: Japanese Cuisine By Omae\n",
    "# 7: SLO-Boy\n",
    "# 8: Indian Bowl Cuisine\n",
    "# 9: Nem Nuong Bistro\n",
    "# 10: Chao Thai Restaurant\n",
    "    \n",
    "# Recommendations for Restaurant 3LWsVfsSmb_Nzbi2YQ-NIA(Delhi Indian Cuisine) on priority basis:\n",
    "# CF recommendation Using Reviews text\n",
    "# 89106    Namaste Indian Cuisine\n",
    "# Name: name, dtype: object\n",
    "# 66700    Mt Everest India's Cuisine\n",
    "# Name: name, dtype: object\n",
    "# 11930    Angara India Spice Grill\n",
    "# Name: name, dtype: object\n",
    "# 139707    Mint Indian Bistro\n",
    "# Name: name, dtype: object\n",
    "# 62112    Tamba\n",
    "# Name: name, dtype: object\n",
    "# 51892    Taj Palace\n",
    "# Name: name, dtype: object\n",
    "# 48834    Paradise India\n",
    "# Name: name, dtype: object\n",
    "# 192754    India Oven Masala Bar & Grill\n",
    "# Name: name, dtype: object\n",
    "# 64370    Mint Indian Bistro\n",
    "# Name: name, dtype: object\n",
    "# 120985    India Palace\n",
    "# Name: name, dtype: object\n",
    "        \n",
    "        \n",
    "    \n",
    "# Recommendations for Restaurant Chao Thai Restaurant on priority basis:\n",
    "# CF recommendation Using Rating\n",
    "# 1: Rumbi Island Grill\n",
    "# 2: Great Wall Chinese Restaurant\n",
    "# 3: Basil Thai Fusion\n",
    "# 4: Indian Bowl Cuisine\n",
    "# 5: Chevron\n",
    "# 6: Sandwich Carvery 108\n",
    "# 7: San Gennaro Burger\n",
    "# 8: The New Jugoo\n",
    "# 9: Essence of Thai\n",
    "# 10: The Grill\n",
    "    \n",
    "# Recommendations for Restaurant QmVF3KJ07PsdroCFwOC_Ow(Chao Thai Restaurant) on priority basis:\n",
    "# CF recommendation Using Reviews text\n",
    "# 116024    Lucki Thai\n",
    "# Name: name, dtype: object\n",
    "# 142155    Pin Kaow Thai Restaurant\n",
    "# Name: name, dtype: object\n",
    "# 58844    Pin Kaow Thai\n",
    "# Name: name, dtype: object\n",
    "# 197265    Table Thai Bar & Bistro\n",
    "# Name: name, dtype: object\n",
    "# 80719    Thai Style Noodle House\n",
    "# Name: name, dtype: object\n",
    "# 56726    Thai House\n",
    "# Name: name, dtype: object\n",
    "# 173863    Prommares Thai Food\n",
    "# Name: name, dtype: object\n",
    "# 203882    Surang's Thai Kitchen\n",
    "# Name: name, dtype: object\n",
    "# 162323    Thai Room\n",
    "# Name: name, dtype: object\n",
    "# 14336    Panna Thai Restaurant\n",
    "# Name: name, dtype: object"
   ]
  }
 ],
 "metadata": {
  "kernelspec": {
   "display_name": "Python 3",
   "language": "python",
   "name": "python3"
  },
  "language_info": {
   "codemirror_mode": {
    "name": "ipython",
    "version": 3
   },
   "file_extension": ".py",
   "mimetype": "text/x-python",
   "name": "python",
   "nbconvert_exporter": "python",
   "pygments_lexer": "ipython3",
   "version": "3.7.3"
  }
 },
 "nbformat": 4,
 "nbformat_minor": 2
}
