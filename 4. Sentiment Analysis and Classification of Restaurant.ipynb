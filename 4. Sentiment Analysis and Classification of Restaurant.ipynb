{
 "cells": [
  {
   "cell_type": "code",
   "execution_count": 2,
   "metadata": {},
   "outputs": [],
   "source": [
    "import pandas as pd\n",
    "import matplotlib.pyplot as plt\n",
    "import numpy as np\n",
    "import nltk\n",
    "# nltk.download('wordnet')\n",
    "# nltk.download('averaged_perceptron_tagger')\n",
    "# nltk.download('sentiwordnet')\n",
    "# nltk.download('wordnet')\n",
    "# nltk.download('punkt')\n",
    "from nltk import pos_tag, pos_tag_sents\n",
    "from nltk.stem.wordnet import WordNetLemmatizer\n",
    "from nltk.corpus import sentiwordnet as swn\n",
    "from nltk.stem import WordNetLemmatizer\n",
    "from nltk.corpus import wordnet as wn\n",
    "from nltk import sent_tokenize, word_tokenize, pos_tag\n",
    "import seaborn as sns\n",
    "import re\n",
    "from sklearn.metrics import *\n",
    "from sklearn.model_selection import *\n",
    "from sklearn.model_selection import train_test_split\n",
    "from sklearn.naive_bayes import GaussianNB\n",
    "from sklearn import svm\n",
    "from sklearn import tree\n",
    "from sklearn.neighbors import KNeighborsClassifier\n",
    "from sklearn.linear_model import LogisticRegression\n",
    "# from sklearn.feature_extraction.text import CountVectorizer\n",
    "from sklearn.neural_network import MLPClassifier\n",
    "from sklearn.preprocessing import StandardScaler\n",
    "# from sklearn.feature_extraction.text import TfidfVectorizer\n",
    "from sklearn.ensemble import RandomForestClassifier, AdaBoostClassifier\n",
    "from sklearn.neural_network import MLPClassifier\n",
    "\n",
    "# import warnings filter\n",
    "from warnings import simplefilter\n",
    "# ignore all future warnings\n",
    "simplefilter(action='ignore', category=FutureWarning)"
   ]
  },
  {
   "cell_type": "code",
   "execution_count": 3,
   "metadata": {},
   "outputs": [],
   "source": [
    "df_restaurant_businesses= pd.read_pickle(\"df_restaurant_businesses.pkl\")"
   ]
  },
  {
   "cell_type": "code",
   "execution_count": 4,
   "metadata": {},
   "outputs": [
    {
     "data": {
      "text/plain": [
       "(6012, 6)"
      ]
     },
     "execution_count": 4,
     "metadata": {},
     "output_type": "execute_result"
    }
   ],
   "source": [
    "df_restaurant_businesses.shape"
   ]
  },
  {
   "cell_type": "code",
   "execution_count": 5,
   "metadata": {},
   "outputs": [
    {
     "data": {
      "text/plain": [
       "Index(['number of businesses', 'city', 'state', 'stars', 'review_count',\n",
       "       'categories'],\n",
       "      dtype='object')"
      ]
     },
     "execution_count": 5,
     "metadata": {},
     "output_type": "execute_result"
    }
   ],
   "source": [
    "df_restaurant_businesses.columns"
   ]
  },
  {
   "cell_type": "code",
   "execution_count": 6,
   "metadata": {},
   "outputs": [],
   "source": [
    "df_restaurant_businesses.dropna(axis=0, how='any', inplace = True) #drop rows with null values"
   ]
  },
  {
   "cell_type": "code",
   "execution_count": 7,
   "metadata": {},
   "outputs": [
    {
     "data": {
      "text/plain": [
       "Index(['business_id', 'city', 'state', 'stars', 'review_count', 'categories'], dtype='object')"
      ]
     },
     "execution_count": 7,
     "metadata": {},
     "output_type": "execute_result"
    }
   ],
   "source": [
    "df_restaurant_businesses=df_restaurant_businesses.rename(columns={'number of businesses':'business_id'})\n",
    "df_restaurant_businesses.columns"
   ]
  },
  {
   "cell_type": "code",
   "execution_count": 8,
   "metadata": {},
   "outputs": [],
   "source": [
    "df_restaurant_reviews= pd.read_pickle(\"df_restaurant_reviews.pkl\")"
   ]
  },
  {
   "cell_type": "code",
   "execution_count": 9,
   "metadata": {},
   "outputs": [
    {
     "data": {
      "text/plain": [
       "(107128, 6)"
      ]
     },
     "execution_count": 9,
     "metadata": {},
     "output_type": "execute_result"
    }
   ],
   "source": [
    "df_restaurant_reviews.shape"
   ]
  },
  {
   "cell_type": "code",
   "execution_count": 10,
   "metadata": {},
   "outputs": [
    {
     "data": {
      "text/plain": [
       "Index(['review_id', 'user_id', 'business_id', 'stars', 'date', 'text'], dtype='object')"
      ]
     },
     "execution_count": 10,
     "metadata": {},
     "output_type": "execute_result"
    }
   ],
   "source": [
    "df_restaurant_reviews.columns"
   ]
  },
  {
   "cell_type": "code",
   "execution_count": 11,
   "metadata": {},
   "outputs": [],
   "source": [
    "df_restaurant_reviews=df_restaurant_reviews[['business_id','stars', 'text']]"
   ]
  },
  {
   "cell_type": "code",
   "execution_count": 12,
   "metadata": {},
   "outputs": [
    {
     "data": {
      "text/plain": [
       "Index(['business_id', 'stars', 'text'], dtype='object')"
      ]
     },
     "execution_count": 12,
     "metadata": {},
     "output_type": "execute_result"
    }
   ],
   "source": [
    "df_restaurant_reviews.columns"
   ]
  },
  {
   "cell_type": "markdown",
   "metadata": {},
   "source": [
    "## Cleaning, Preprocessing and lemmatization of data"
   ]
  },
  {
   "cell_type": "markdown",
   "metadata": {},
   "source": [
    "Summary:\n",
    "\n",
    "1) Clean the text by trimming, replacing extra characters, converting text to lowercase.\n",
    "\n",
    "2) Tokenize text to sentences and then to word.\n",
    "\n",
    "3) Tag all the words with POS\n",
    "\n",
    "4) Convert tags to wordnet tags\n",
    "\n",
    "5) Lemmatize all the words and create sysnets\n",
    "\n",
    "6) Calculate sentiment score using sentiwordnet from nltk corpus\n",
    "\n",
    "7) Return a polarity score\n",
    "\n",
    "(How do you find the polarity of a sentence?\n",
    "\n",
    "The polarity of words is retrieved from the package pattern and the sentence polarity is calculated using: Sum of polarity of all the words in a sentence divided by the total number of words in the sentence"
   ]
  },
  {
   "cell_type": "code",
   "execution_count": 13,
   "metadata": {},
   "outputs": [],
   "source": [
    "# https://www.machinelearningplus.com/nlp/lemmatization-examples-python/\n",
    "lemmatizer = WordNetLemmatizer()\n",
    "\n",
    "def convert_tag(tag):\n",
    "    if tag.startswith('J'):\n",
    "        return wn.ADJ\n",
    "    elif tag.startswith('N'):\n",
    "        return wn.NOUN\n",
    "    elif tag.startswith('R'):\n",
    "        return wn.ADV\n",
    "    elif tag.startswith('V'):\n",
    "        return wn.VERB\n",
    "    return None\n",
    "\n",
    "def clean_text(text):\n",
    "    text = text.replace(\"<br />\", \" \")\n",
    "    text = re.sub('<[^>]*>', '', text)\n",
    "    emoticons = re.findall('(?::|;|=)(?:-)?(?:\\)|\\(|D|P)', text)\n",
    "    text = (re.sub('[\\W]+', ' ', text.lower()) + ' '.join(emoticons).replace('-', ''))\n",
    "    return text\n",
    "\n",
    "\n",
    "def compute_polarity_score(text):\n",
    "    sentiment_score = 0.0\n",
    "    text = clean_text(text)\n",
    "    sentences = sent_tokenize(text)\n",
    "    for sentence in sentences:\n",
    "        tagged_sentence = pos_tag(word_tokenize(sentence))\n",
    "        for word, tag in tagged_sentence:\n",
    "            wn_tag = convert_tag(tag)\n",
    "            if wn_tag not in (wn.NOUN, wn.ADJ, wn.ADV):\n",
    "                continue\n",
    "            lemma = lemmatizer.lemmatize(word, pos=wn_tag)\n",
    "            if not lemma:\n",
    "                continue\n",
    "            synsets = wn.synsets(lemma, pos=wn_tag)\n",
    "            if not synsets:\n",
    "                continue\n",
    "            synset = synsets[0]\n",
    "            swn_synset = swn.senti_synset(synset.name())\n",
    "            sentiment_score += swn_synset.pos_score() - swn_synset.neg_score()\n",
    "    # sum greater than 0 => positive sentiment\n",
    "    if sentiment_score >= 0:\n",
    "        return 1\n",
    "    # All other scenarios => negative sentiment\n",
    "    else:\n",
    "        return 0\n",
    " "
   ]
  },
  {
   "cell_type": "markdown",
   "metadata": {},
   "source": [
    "# Sentiment Analysis on Yelp Reviews"
   ]
  },
  {
   "cell_type": "code",
   "execution_count": 15,
   "metadata": {},
   "outputs": [],
   "source": [
    "# Creating new column polarity which has polarity score of each review in reviews dataframe \n",
    "df_restaurant_reviews['polarity']=df_restaurant_reviews['text'].apply(compute_polarity_score)"
   ]
  },
  {
   "cell_type": "code",
   "execution_count": 16,
   "metadata": {},
   "outputs": [],
   "source": [
    "# Writing to pickle for a backup\n",
    "df_restaurant_reviews.to_pickle(\"after polarity calculation df_restaurant_reviews.pkl\")\n",
    "# df_restaurant_reviews=pd.read_pickle(\"after polarity calculation df_restaurant_reviews.pkl\")"
   ]
  },
  {
   "cell_type": "code",
   "execution_count": 17,
   "metadata": {},
   "outputs": [
    {
     "data": {
      "text/html": [
       "<div>\n",
       "<style scoped>\n",
       "    .dataframe tbody tr th:only-of-type {\n",
       "        vertical-align: middle;\n",
       "    }\n",
       "\n",
       "    .dataframe tbody tr th {\n",
       "        vertical-align: top;\n",
       "    }\n",
       "\n",
       "    .dataframe thead th {\n",
       "        text-align: right;\n",
       "    }\n",
       "</style>\n",
       "<table border=\"1\" class=\"dataframe\">\n",
       "  <thead>\n",
       "    <tr style=\"text-align: right;\">\n",
       "      <th></th>\n",
       "      <th>business_id</th>\n",
       "      <th>stars</th>\n",
       "      <th>text</th>\n",
       "      <th>polarity</th>\n",
       "    </tr>\n",
       "  </thead>\n",
       "  <tbody>\n",
       "    <tr>\n",
       "      <th>32</th>\n",
       "      <td>LkMtMHVetws5_7QfRjPtlg</td>\n",
       "      <td>2</td>\n",
       "      <td>This actually used to be one of my favorite ho...</td>\n",
       "      <td>0</td>\n",
       "    </tr>\n",
       "    <tr>\n",
       "      <th>186</th>\n",
       "      <td>38YPE4KCvgChy9y6FcksEQ</td>\n",
       "      <td>2</td>\n",
       "      <td>The pizza wasn't very warm when it arrived (th...</td>\n",
       "      <td>1</td>\n",
       "    </tr>\n",
       "    <tr>\n",
       "      <th>507</th>\n",
       "      <td>ID5wWJ9C7G0hfbQilvlfxA</td>\n",
       "      <td>1</td>\n",
       "      <td>I've been here several times over the last 3 y...</td>\n",
       "      <td>1</td>\n",
       "    </tr>\n",
       "    <tr>\n",
       "      <th>633</th>\n",
       "      <td>rcaPajgKOJC2vo_l3xa42A</td>\n",
       "      <td>4</td>\n",
       "      <td>Loved the Bakery.. Finally decided to try the ...</td>\n",
       "      <td>1</td>\n",
       "    </tr>\n",
       "    <tr>\n",
       "      <th>699</th>\n",
       "      <td>Os1n1_idfw9vv9kwULGJnQ</td>\n",
       "      <td>4</td>\n",
       "      <td>Good food all around. The meal begins with com...</td>\n",
       "      <td>1</td>\n",
       "    </tr>\n",
       "  </tbody>\n",
       "</table>\n",
       "</div>"
      ],
      "text/plain": [
       "                business_id  stars  \\\n",
       "32   LkMtMHVetws5_7QfRjPtlg      2   \n",
       "186  38YPE4KCvgChy9y6FcksEQ      2   \n",
       "507  ID5wWJ9C7G0hfbQilvlfxA      1   \n",
       "633  rcaPajgKOJC2vo_l3xa42A      4   \n",
       "699  Os1n1_idfw9vv9kwULGJnQ      4   \n",
       "\n",
       "                                                  text  polarity  \n",
       "32   This actually used to be one of my favorite ho...         0  \n",
       "186  The pizza wasn't very warm when it arrived (th...         1  \n",
       "507  I've been here several times over the last 3 y...         1  \n",
       "633  Loved the Bakery.. Finally decided to try the ...         1  \n",
       "699  Good food all around. The meal begins with com...         1  "
      ]
     },
     "execution_count": 17,
     "metadata": {},
     "output_type": "execute_result"
    }
   ],
   "source": [
    "df_restaurant_reviews.head()"
   ]
  },
  {
   "cell_type": "code",
   "execution_count": 18,
   "metadata": {},
   "outputs": [
    {
     "data": {
      "text/plain": [
       "(107128, 4)"
      ]
     },
     "execution_count": 18,
     "metadata": {},
     "output_type": "execute_result"
    }
   ],
   "source": [
    "df_restaurant_reviews.shape"
   ]
  },
  {
   "cell_type": "code",
   "execution_count": 19,
   "metadata": {},
   "outputs": [],
   "source": [
    "# Now we will calculate the net positive sentiment score for each business as follows: \n",
    "# net_positive_sentiment_score = sum(polarity) / total_count_of_reviews \n",
    "# sum(polarity) for each business can be aggregated and obtained from df_restaurant_reviews dataframe \n",
    "# total_count_of_reviews is already available in df_restaurant_businesses dataframe (review_count) column\n",
    "df_restaurant_reviews=df_restaurant_reviews.groupby('business_id').mean().reset_index()\n",
    "df_restaurant_reviews=df_restaurant_reviews[['business_id','polarity']]\n",
    "df_restaurant_reviews.rename(columns={'polarity':'overall_positive_sentiment_score'}, inplace=True)"
   ]
  },
  {
   "cell_type": "code",
   "execution_count": 20,
   "metadata": {},
   "outputs": [
    {
     "data": {
      "text/plain": [
       "(6012, 2)"
      ]
     },
     "execution_count": 20,
     "metadata": {},
     "output_type": "execute_result"
    }
   ],
   "source": [
    "df_restaurant_reviews.shape"
   ]
  },
  {
   "cell_type": "code",
   "execution_count": 21,
   "metadata": {},
   "outputs": [
    {
     "data": {
      "text/plain": [
       "(6012, 6)"
      ]
     },
     "execution_count": 21,
     "metadata": {},
     "output_type": "execute_result"
    }
   ],
   "source": [
    "df_restaurant_businesses.shape"
   ]
  },
  {
   "cell_type": "code",
   "execution_count": 22,
   "metadata": {},
   "outputs": [
    {
     "data": {
      "text/plain": [
       "Index(['business_id', 'city', 'state', 'stars', 'review_count', 'categories'], dtype='object')"
      ]
     },
     "execution_count": 22,
     "metadata": {},
     "output_type": "execute_result"
    }
   ],
   "source": [
    "df_restaurant_businesses.columns"
   ]
  },
  {
   "cell_type": "code",
   "execution_count": 23,
   "metadata": {},
   "outputs": [
    {
     "data": {
      "text/plain": [
       "Index(['business_id', 'city', 'state', 'stars', 'review_count', 'categories',\n",
       "       'overall_positive_sentiment_score'],\n",
       "      dtype='object')"
      ]
     },
     "execution_count": 23,
     "metadata": {},
     "output_type": "execute_result"
    }
   ],
   "source": [
    "data = pd.merge(df_restaurant_businesses, df_restaurant_reviews, on='business_id', how='inner')    \n",
    "data.shape\n",
    "data.columns"
   ]
  },
  {
   "cell_type": "code",
   "execution_count": 24,
   "metadata": {},
   "outputs": [],
   "source": [
    "data=data[['business_id','stars','overall_positive_sentiment_score']]"
   ]
  },
  {
   "cell_type": "code",
   "execution_count": 25,
   "metadata": {},
   "outputs": [
    {
     "data": {
      "text/html": [
       "<div>\n",
       "<style scoped>\n",
       "    .dataframe tbody tr th:only-of-type {\n",
       "        vertical-align: middle;\n",
       "    }\n",
       "\n",
       "    .dataframe tbody tr th {\n",
       "        vertical-align: top;\n",
       "    }\n",
       "\n",
       "    .dataframe thead th {\n",
       "        text-align: right;\n",
       "    }\n",
       "</style>\n",
       "<table border=\"1\" class=\"dataframe\">\n",
       "  <thead>\n",
       "    <tr style=\"text-align: right;\">\n",
       "      <th></th>\n",
       "      <th>business_id</th>\n",
       "      <th>stars</th>\n",
       "      <th>overall_positive_sentiment_score</th>\n",
       "    </tr>\n",
       "  </thead>\n",
       "  <tbody>\n",
       "    <tr>\n",
       "      <th>0</th>\n",
       "      <td>fnZrZlqW1Z8iWgTVDfv_MA</td>\n",
       "      <td>2.5</td>\n",
       "      <td>1.00</td>\n",
       "    </tr>\n",
       "    <tr>\n",
       "      <th>1</th>\n",
       "      <td>fhNf_sg-XzZ3e7HEVGuOZg</td>\n",
       "      <td>3.0</td>\n",
       "      <td>0.75</td>\n",
       "    </tr>\n",
       "    <tr>\n",
       "      <th>2</th>\n",
       "      <td>OWkS1FXNJbozn-qPg3LWxg</td>\n",
       "      <td>4.5</td>\n",
       "      <td>1.00</td>\n",
       "    </tr>\n",
       "    <tr>\n",
       "      <th>3</th>\n",
       "      <td>MTx-Zdl_KcU_z9G832XAjg</td>\n",
       "      <td>2.5</td>\n",
       "      <td>1.00</td>\n",
       "    </tr>\n",
       "    <tr>\n",
       "      <th>4</th>\n",
       "      <td>Q_dh08clYUPj13GmCRzIVA</td>\n",
       "      <td>4.0</td>\n",
       "      <td>0.75</td>\n",
       "    </tr>\n",
       "  </tbody>\n",
       "</table>\n",
       "</div>"
      ],
      "text/plain": [
       "              business_id  stars  overall_positive_sentiment_score\n",
       "0  fnZrZlqW1Z8iWgTVDfv_MA    2.5                              1.00\n",
       "1  fhNf_sg-XzZ3e7HEVGuOZg    3.0                              0.75\n",
       "2  OWkS1FXNJbozn-qPg3LWxg    4.5                              1.00\n",
       "3  MTx-Zdl_KcU_z9G832XAjg    2.5                              1.00\n",
       "4  Q_dh08clYUPj13GmCRzIVA    4.0                              0.75"
      ]
     },
     "execution_count": 25,
     "metadata": {},
     "output_type": "execute_result"
    }
   ],
   "source": [
    "data.head()"
   ]
  },
  {
   "cell_type": "markdown",
   "metadata": {},
   "source": [
    "## Sentiment Analysis on Yelp Tips"
   ]
  },
  {
   "cell_type": "code",
   "execution_count": null,
   "metadata": {},
   "outputs": [],
   "source": [
    "df_yelp_tips=pd.read_json(\"yelp_academic_dataset_tip.json\",encoding='utf8',lines=True)"
   ]
  },
  {
   "cell_type": "code",
   "execution_count": null,
   "metadata": {},
   "outputs": [],
   "source": [
    "df_yelp_tips=df_yelp_tips[['business_id', 'text']]"
   ]
  },
  {
   "cell_type": "code",
   "execution_count": null,
   "metadata": {},
   "outputs": [],
   "source": [
    "df_yelp_tips.shape"
   ]
  },
  {
   "cell_type": "code",
   "execution_count": null,
   "metadata": {},
   "outputs": [],
   "source": [
    "df_yelp_tips=df_yelp_tips[df_yelp_tips['business_id'].isin(df_restaurant_businesses['business_id'])]"
   ]
  },
  {
   "cell_type": "code",
   "execution_count": null,
   "metadata": {},
   "outputs": [],
   "source": [
    "df_yelp_tips.shape"
   ]
  },
  {
   "cell_type": "code",
   "execution_count": null,
   "metadata": {},
   "outputs": [],
   "source": [
    "df_yelp_tips.columns"
   ]
  },
  {
   "cell_type": "code",
   "execution_count": null,
   "metadata": {},
   "outputs": [],
   "source": [
    "# Creating new column polarity which has polarity score of each tip in tips dataframe \n",
    "df_yelp_tips['polarity'] = df_yelp_tips['text'].apply(compute_polarity_score)"
   ]
  },
  {
   "cell_type": "code",
   "execution_count": 45,
   "metadata": {},
   "outputs": [],
   "source": [
    "df_yelp_tips.to_pickle(\"after polarity calculation df_yelp_tips.pkl\")\n",
    "# df_yelp_tips=pd.read_pickle(\"after polarity calculation df_yelp_tips.pkl\")"
   ]
  },
  {
   "cell_type": "code",
   "execution_count": 46,
   "metadata": {},
   "outputs": [],
   "source": [
    "temp_tips=df_yelp_tips"
   ]
  },
  {
   "cell_type": "code",
   "execution_count": 47,
   "metadata": {},
   "outputs": [
    {
     "data": {
      "text/html": [
       "<div>\n",
       "<style scoped>\n",
       "    .dataframe tbody tr th:only-of-type {\n",
       "        vertical-align: middle;\n",
       "    }\n",
       "\n",
       "    .dataframe tbody tr th {\n",
       "        vertical-align: top;\n",
       "    }\n",
       "\n",
       "    .dataframe thead th {\n",
       "        text-align: right;\n",
       "    }\n",
       "</style>\n",
       "<table border=\"1\" class=\"dataframe\">\n",
       "  <thead>\n",
       "    <tr style=\"text-align: right;\">\n",
       "      <th></th>\n",
       "      <th>business_id</th>\n",
       "      <th>text</th>\n",
       "      <th>polarity</th>\n",
       "    </tr>\n",
       "  </thead>\n",
       "  <tbody>\n",
       "    <tr>\n",
       "      <th>1</th>\n",
       "      <td>Ch3HkwQYv1YKw_FO06vBWA</td>\n",
       "      <td>Cucumber strawberry refresher</td>\n",
       "      <td>0</td>\n",
       "    </tr>\n",
       "    <tr>\n",
       "      <th>3</th>\n",
       "      <td>OHXnDV01gLokiX1ELaQufA</td>\n",
       "      <td>It's a small place. The staff is friendly.</td>\n",
       "      <td>0</td>\n",
       "    </tr>\n",
       "    <tr>\n",
       "      <th>4</th>\n",
       "      <td>GMrwDXRlAZU2zj5nH6l4vQ</td>\n",
       "      <td>8 sandwiches, $24 total...what a bargain!!! An...</td>\n",
       "      <td>1</td>\n",
       "    </tr>\n",
       "    <tr>\n",
       "      <th>6</th>\n",
       "      <td>d_L-rfS1vT3JMzgCUGtiow</td>\n",
       "      <td>Cochinita Pibil was memorable &amp; delicious !</td>\n",
       "      <td>1</td>\n",
       "    </tr>\n",
       "    <tr>\n",
       "      <th>8</th>\n",
       "      <td>rcaPajgKOJC2vo_l3xa42A</td>\n",
       "      <td>Kelly is an awesome waitress there!</td>\n",
       "      <td>1</td>\n",
       "    </tr>\n",
       "  </tbody>\n",
       "</table>\n",
       "</div>"
      ],
      "text/plain": [
       "              business_id                                               text  \\\n",
       "1  Ch3HkwQYv1YKw_FO06vBWA                      Cucumber strawberry refresher   \n",
       "3  OHXnDV01gLokiX1ELaQufA         It's a small place. The staff is friendly.   \n",
       "4  GMrwDXRlAZU2zj5nH6l4vQ  8 sandwiches, $24 total...what a bargain!!! An...   \n",
       "6  d_L-rfS1vT3JMzgCUGtiow        Cochinita Pibil was memorable & delicious !   \n",
       "8  rcaPajgKOJC2vo_l3xa42A                Kelly is an awesome waitress there!   \n",
       "\n",
       "   polarity  \n",
       "1         0  \n",
       "3         0  \n",
       "4         1  \n",
       "6         1  \n",
       "8         1  "
      ]
     },
     "execution_count": 47,
     "metadata": {},
     "output_type": "execute_result"
    }
   ],
   "source": [
    "df_yelp_tips.head()"
   ]
  },
  {
   "cell_type": "code",
   "execution_count": 48,
   "metadata": {},
   "outputs": [
    {
     "data": {
      "text/plain": [
       "(296846, 3)"
      ]
     },
     "execution_count": 48,
     "metadata": {},
     "output_type": "execute_result"
    }
   ],
   "source": [
    "df_yelp_tips.shape"
   ]
  },
  {
   "cell_type": "code",
   "execution_count": 49,
   "metadata": {},
   "outputs": [],
   "source": [
    "df_yelp_tips=df_yelp_tips.groupby('business_id').mean().reset_index()\n",
    "df_yelp_tips=df_yelp_tips[['business_id','polarity']]\n",
    "df_yelp_tips.rename(columns={'polarity':'overall_positive_sentiment_score_tips'}, inplace=True)"
   ]
  },
  {
   "cell_type": "code",
   "execution_count": 50,
   "metadata": {},
   "outputs": [
    {
     "data": {
      "text/html": [
       "<div>\n",
       "<style scoped>\n",
       "    .dataframe tbody tr th:only-of-type {\n",
       "        vertical-align: middle;\n",
       "    }\n",
       "\n",
       "    .dataframe tbody tr th {\n",
       "        vertical-align: top;\n",
       "    }\n",
       "\n",
       "    .dataframe thead th {\n",
       "        text-align: right;\n",
       "    }\n",
       "</style>\n",
       "<table border=\"1\" class=\"dataframe\">\n",
       "  <thead>\n",
       "    <tr style=\"text-align: right;\">\n",
       "      <th></th>\n",
       "      <th>business_id</th>\n",
       "      <th>overall_positive_sentiment_score_tips</th>\n",
       "    </tr>\n",
       "  </thead>\n",
       "  <tbody>\n",
       "    <tr>\n",
       "      <th>0</th>\n",
       "      <td>--9e1ONYQuAa-CB_Rrw7Tw</td>\n",
       "      <td>0.880682</td>\n",
       "    </tr>\n",
       "    <tr>\n",
       "      <th>1</th>\n",
       "      <td>-0RkJ_uIduNLWQrphbADRw</td>\n",
       "      <td>0.785714</td>\n",
       "    </tr>\n",
       "    <tr>\n",
       "      <th>2</th>\n",
       "      <td>-1m9o3vGRA8IBPNvNqKLmA</td>\n",
       "      <td>0.909091</td>\n",
       "    </tr>\n",
       "    <tr>\n",
       "      <th>3</th>\n",
       "      <td>-1vfRrlnNnNJ5boOVghMPA</td>\n",
       "      <td>0.560000</td>\n",
       "    </tr>\n",
       "    <tr>\n",
       "      <th>4</th>\n",
       "      <td>-2nfJ8yK54A7Md2RzmMR4g</td>\n",
       "      <td>1.000000</td>\n",
       "    </tr>\n",
       "  </tbody>\n",
       "</table>\n",
       "</div>"
      ],
      "text/plain": [
       "              business_id  overall_positive_sentiment_score_tips\n",
       "0  --9e1ONYQuAa-CB_Rrw7Tw                               0.880682\n",
       "1  -0RkJ_uIduNLWQrphbADRw                               0.785714\n",
       "2  -1m9o3vGRA8IBPNvNqKLmA                               0.909091\n",
       "3  -1vfRrlnNnNJ5boOVghMPA                               0.560000\n",
       "4  -2nfJ8yK54A7Md2RzmMR4g                               1.000000"
      ]
     },
     "execution_count": 50,
     "metadata": {},
     "output_type": "execute_result"
    }
   ],
   "source": [
    "df_yelp_tips.head()"
   ]
  },
  {
   "cell_type": "code",
   "execution_count": 51,
   "metadata": {},
   "outputs": [
    {
     "data": {
      "text/plain": [
       "(6012, 4)"
      ]
     },
     "execution_count": 51,
     "metadata": {},
     "output_type": "execute_result"
    }
   ],
   "source": [
    "data.shape"
   ]
  },
  {
   "cell_type": "code",
   "execution_count": 52,
   "metadata": {},
   "outputs": [
    {
     "data": {
      "text/plain": [
       "Index(['business_id', 'stars', 'overall_positive_sentiment_score',\n",
       "       'sentiment'],\n",
       "      dtype='object')"
      ]
     },
     "execution_count": 52,
     "metadata": {},
     "output_type": "execute_result"
    }
   ],
   "source": [
    "data.columns"
   ]
  },
  {
   "cell_type": "code",
   "execution_count": 53,
   "metadata": {},
   "outputs": [],
   "source": [
    "data = pd.merge(data, df_yelp_tips , on='business_id', how='left')\n",
    "data=data.fillna(0)"
   ]
  },
  {
   "cell_type": "code",
   "execution_count": 54,
   "metadata": {},
   "outputs": [
    {
     "data": {
      "text/plain": [
       "(6012, 5)"
      ]
     },
     "execution_count": 54,
     "metadata": {},
     "output_type": "execute_result"
    }
   ],
   "source": [
    "data.shape"
   ]
  },
  {
   "cell_type": "code",
   "execution_count": 55,
   "metadata": {},
   "outputs": [
    {
     "data": {
      "text/plain": [
       "Index(['business_id', 'stars', 'overall_positive_sentiment_score', 'sentiment',\n",
       "       'overall_positive_sentiment_score_tips'],\n",
       "      dtype='object')"
      ]
     },
     "execution_count": 55,
     "metadata": {},
     "output_type": "execute_result"
    }
   ],
   "source": [
    "data.columns"
   ]
  },
  {
   "cell_type": "markdown",
   "metadata": {},
   "source": [
    "## Extracting check-ins data"
   ]
  },
  {
   "cell_type": "code",
   "execution_count": 57,
   "metadata": {},
   "outputs": [],
   "source": [
    "df_checkins= pd.read_json(\"yelp_academic_dataset_checkin.json\",encoding='utf8',lines=True)"
   ]
  },
  {
   "cell_type": "code",
   "execution_count": 58,
   "metadata": {},
   "outputs": [
    {
     "data": {
      "text/plain": [
       "(175187, 2)"
      ]
     },
     "execution_count": 58,
     "metadata": {},
     "output_type": "execute_result"
    }
   ],
   "source": [
    "df_checkins.shape"
   ]
  },
  {
   "cell_type": "code",
   "execution_count": 59,
   "metadata": {},
   "outputs": [
    {
     "data": {
      "text/plain": [
       "Index(['business_id', 'date'], dtype='object')"
      ]
     },
     "execution_count": 59,
     "metadata": {},
     "output_type": "execute_result"
    }
   ],
   "source": [
    "df_checkins.columns"
   ]
  },
  {
   "cell_type": "code",
   "execution_count": 60,
   "metadata": {},
   "outputs": [],
   "source": [
    "df_checkins=df_checkins[df_checkins['business_id'].isin(df_restaurant_businesses['business_id'])]"
   ]
  },
  {
   "cell_type": "code",
   "execution_count": 61,
   "metadata": {},
   "outputs": [
    {
     "data": {
      "text/plain": [
       "(5923, 2)"
      ]
     },
     "execution_count": 61,
     "metadata": {},
     "output_type": "execute_result"
    }
   ],
   "source": [
    "df_checkins.shape"
   ]
  },
  {
   "cell_type": "code",
   "execution_count": 62,
   "metadata": {},
   "outputs": [],
   "source": [
    "df_checkins['temp']=df_checkins['date'].str.split(',')"
   ]
  },
  {
   "cell_type": "code",
   "execution_count": 63,
   "metadata": {},
   "outputs": [],
   "source": [
    "# Counting check-ins count for each business\n",
    "df_checkins['count']=df_checkins.temp.apply(lambda x: len(x))"
   ]
  },
  {
   "cell_type": "code",
   "execution_count": 64,
   "metadata": {},
   "outputs": [],
   "source": [
    "df_checkins=df_checkins.rename(columns={'count':'check-ins'})"
   ]
  },
  {
   "cell_type": "code",
   "execution_count": 65,
   "metadata": {},
   "outputs": [
    {
     "data": {
      "text/html": [
       "<div>\n",
       "<style scoped>\n",
       "    .dataframe tbody tr th:only-of-type {\n",
       "        vertical-align: middle;\n",
       "    }\n",
       "\n",
       "    .dataframe tbody tr th {\n",
       "        vertical-align: top;\n",
       "    }\n",
       "\n",
       "    .dataframe thead th {\n",
       "        text-align: right;\n",
       "    }\n",
       "</style>\n",
       "<table border=\"1\" class=\"dataframe\">\n",
       "  <thead>\n",
       "    <tr style=\"text-align: right;\">\n",
       "      <th></th>\n",
       "      <th>business_id</th>\n",
       "      <th>date</th>\n",
       "      <th>temp</th>\n",
       "      <th>check-ins</th>\n",
       "    </tr>\n",
       "  </thead>\n",
       "  <tbody>\n",
       "    <tr>\n",
       "      <th>5</th>\n",
       "      <td>--9e1ONYQuAa-CB_Rrw7Tw</td>\n",
       "      <td>2010-02-08 05:56:47, 2010-02-15 04:47:42, 2010...</td>\n",
       "      <td>[2010-02-08 05:56:47,  2010-02-15 04:47:42,  2...</td>\n",
       "      <td>2942</td>\n",
       "    </tr>\n",
       "    <tr>\n",
       "      <th>71</th>\n",
       "      <td>-0RkJ_uIduNLWQrphbADRw</td>\n",
       "      <td>2018-08-30 16:32:18, 2018-09-01 19:39:03, 2018...</td>\n",
       "      <td>[2018-08-30 16:32:18,  2018-09-01 19:39:03,  2...</td>\n",
       "      <td>181</td>\n",
       "    </tr>\n",
       "    <tr>\n",
       "      <th>122</th>\n",
       "      <td>-1m9o3vGRA8IBPNvNqKLmA</td>\n",
       "      <td>2017-10-25 00:48:29, 2017-10-26 02:31:11, 2017...</td>\n",
       "      <td>[2017-10-25 00:48:29,  2017-10-26 02:31:11,  2...</td>\n",
       "      <td>529</td>\n",
       "    </tr>\n",
       "    <tr>\n",
       "      <th>127</th>\n",
       "      <td>-1vfRrlnNnNJ5boOVghMPA</td>\n",
       "      <td>2013-01-23 04:40:26, 2013-01-29 01:47:37, 2013...</td>\n",
       "      <td>[2013-01-23 04:40:26,  2013-01-29 01:47:37,  2...</td>\n",
       "      <td>164</td>\n",
       "    </tr>\n",
       "    <tr>\n",
       "      <th>174</th>\n",
       "      <td>-2nfJ8yK54A7Md2RzmMR4g</td>\n",
       "      <td>2019-08-25 03:23:29, 2019-08-27 18:49:03, 2019...</td>\n",
       "      <td>[2019-08-25 03:23:29,  2019-08-27 18:49:03,  2...</td>\n",
       "      <td>4</td>\n",
       "    </tr>\n",
       "  </tbody>\n",
       "</table>\n",
       "</div>"
      ],
      "text/plain": [
       "                business_id  \\\n",
       "5    --9e1ONYQuAa-CB_Rrw7Tw   \n",
       "71   -0RkJ_uIduNLWQrphbADRw   \n",
       "122  -1m9o3vGRA8IBPNvNqKLmA   \n",
       "127  -1vfRrlnNnNJ5boOVghMPA   \n",
       "174  -2nfJ8yK54A7Md2RzmMR4g   \n",
       "\n",
       "                                                  date  \\\n",
       "5    2010-02-08 05:56:47, 2010-02-15 04:47:42, 2010...   \n",
       "71   2018-08-30 16:32:18, 2018-09-01 19:39:03, 2018...   \n",
       "122  2017-10-25 00:48:29, 2017-10-26 02:31:11, 2017...   \n",
       "127  2013-01-23 04:40:26, 2013-01-29 01:47:37, 2013...   \n",
       "174  2019-08-25 03:23:29, 2019-08-27 18:49:03, 2019...   \n",
       "\n",
       "                                                  temp  check-ins  \n",
       "5    [2010-02-08 05:56:47,  2010-02-15 04:47:42,  2...       2942  \n",
       "71   [2018-08-30 16:32:18,  2018-09-01 19:39:03,  2...        181  \n",
       "122  [2017-10-25 00:48:29,  2017-10-26 02:31:11,  2...        529  \n",
       "127  [2013-01-23 04:40:26,  2013-01-29 01:47:37,  2...        164  \n",
       "174  [2019-08-25 03:23:29,  2019-08-27 18:49:03,  2...          4  "
      ]
     },
     "execution_count": 65,
     "metadata": {},
     "output_type": "execute_result"
    }
   ],
   "source": [
    "df_checkins.head()"
   ]
  },
  {
   "cell_type": "code",
   "execution_count": 66,
   "metadata": {},
   "outputs": [],
   "source": [
    "df_checkins=df_checkins[['business_id','check-ins']]"
   ]
  },
  {
   "cell_type": "code",
   "execution_count": 67,
   "metadata": {},
   "outputs": [
    {
     "data": {
      "text/plain": [
       "(5923, 2)"
      ]
     },
     "execution_count": 67,
     "metadata": {},
     "output_type": "execute_result"
    }
   ],
   "source": [
    "df_checkins.shape"
   ]
  },
  {
   "cell_type": "code",
   "execution_count": 68,
   "metadata": {},
   "outputs": [],
   "source": [
    "data = pd.merge(data, df_checkins, on='business_id', how='left')\n",
    "data=data.fillna(0)"
   ]
  },
  {
   "cell_type": "code",
   "execution_count": 69,
   "metadata": {},
   "outputs": [
    {
     "data": {
      "text/html": [
       "<div>\n",
       "<style scoped>\n",
       "    .dataframe tbody tr th:only-of-type {\n",
       "        vertical-align: middle;\n",
       "    }\n",
       "\n",
       "    .dataframe tbody tr th {\n",
       "        vertical-align: top;\n",
       "    }\n",
       "\n",
       "    .dataframe thead th {\n",
       "        text-align: right;\n",
       "    }\n",
       "</style>\n",
       "<table border=\"1\" class=\"dataframe\">\n",
       "  <thead>\n",
       "    <tr style=\"text-align: right;\">\n",
       "      <th></th>\n",
       "      <th>business_id</th>\n",
       "      <th>stars</th>\n",
       "      <th>overall_positive_sentiment_score</th>\n",
       "      <th>sentiment</th>\n",
       "      <th>overall_positive_sentiment_score_tips</th>\n",
       "      <th>check-ins</th>\n",
       "    </tr>\n",
       "  </thead>\n",
       "  <tbody>\n",
       "    <tr>\n",
       "      <th>0</th>\n",
       "      <td>fnZrZlqW1Z8iWgTVDfv_MA</td>\n",
       "      <td>2.5</td>\n",
       "      <td>1.00</td>\n",
       "      <td>neutral</td>\n",
       "      <td>0.888889</td>\n",
       "      <td>141.0</td>\n",
       "    </tr>\n",
       "    <tr>\n",
       "      <th>1</th>\n",
       "      <td>fhNf_sg-XzZ3e7HEVGuOZg</td>\n",
       "      <td>3.0</td>\n",
       "      <td>0.75</td>\n",
       "      <td>neutral</td>\n",
       "      <td>0.600000</td>\n",
       "      <td>17.0</td>\n",
       "    </tr>\n",
       "    <tr>\n",
       "      <th>2</th>\n",
       "      <td>OWkS1FXNJbozn-qPg3LWxg</td>\n",
       "      <td>4.5</td>\n",
       "      <td>1.00</td>\n",
       "      <td>positive</td>\n",
       "      <td>1.000000</td>\n",
       "      <td>3.0</td>\n",
       "    </tr>\n",
       "    <tr>\n",
       "      <th>3</th>\n",
       "      <td>MTx-Zdl_KcU_z9G832XAjg</td>\n",
       "      <td>2.5</td>\n",
       "      <td>1.00</td>\n",
       "      <td>neutral</td>\n",
       "      <td>0.789474</td>\n",
       "      <td>320.0</td>\n",
       "    </tr>\n",
       "    <tr>\n",
       "      <th>4</th>\n",
       "      <td>Q_dh08clYUPj13GmCRzIVA</td>\n",
       "      <td>4.0</td>\n",
       "      <td>0.75</td>\n",
       "      <td>positive</td>\n",
       "      <td>0.909091</td>\n",
       "      <td>115.0</td>\n",
       "    </tr>\n",
       "  </tbody>\n",
       "</table>\n",
       "</div>"
      ],
      "text/plain": [
       "              business_id  stars  overall_positive_sentiment_score sentiment  \\\n",
       "0  fnZrZlqW1Z8iWgTVDfv_MA    2.5                              1.00   neutral   \n",
       "1  fhNf_sg-XzZ3e7HEVGuOZg    3.0                              0.75   neutral   \n",
       "2  OWkS1FXNJbozn-qPg3LWxg    4.5                              1.00  positive   \n",
       "3  MTx-Zdl_KcU_z9G832XAjg    2.5                              1.00   neutral   \n",
       "4  Q_dh08clYUPj13GmCRzIVA    4.0                              0.75  positive   \n",
       "\n",
       "   overall_positive_sentiment_score_tips  check-ins  \n",
       "0                               0.888889      141.0  \n",
       "1                               0.600000       17.0  \n",
       "2                               1.000000        3.0  \n",
       "3                               0.789474      320.0  \n",
       "4                               0.909091      115.0  "
      ]
     },
     "execution_count": 69,
     "metadata": {},
     "output_type": "execute_result"
    }
   ],
   "source": [
    "data.head()"
   ]
  },
  {
   "cell_type": "markdown",
   "metadata": {},
   "source": [
    "## Convert Star Ratings to Sentiments"
   ]
  },
  {
   "cell_type": "code",
   "execution_count": 26,
   "metadata": {},
   "outputs": [],
   "source": [
    "# positive :: stars >= 3.5\n",
    "# neutral :: stars 2.0 < x < 3.5\n",
    "# negative :: stars <= 2.0\n",
    "def convert_stars_to_category(data):\n",
    "    if data['stars'] >= 3.5:\n",
    "        return 'positive'\n",
    "    elif data['stars'] <= 2.0:\n",
    "        return 'negative'\n",
    "    else:\n",
    "        return 'neutral'\n",
    "    \n",
    "data['sentiment'] = data.apply(convert_stars_to_category, axis=1)"
   ]
  },
  {
   "cell_type": "code",
   "execution_count": 27,
   "metadata": {},
   "outputs": [
    {
     "data": {
      "text/html": [
       "<div>\n",
       "<style scoped>\n",
       "    .dataframe tbody tr th:only-of-type {\n",
       "        vertical-align: middle;\n",
       "    }\n",
       "\n",
       "    .dataframe tbody tr th {\n",
       "        vertical-align: top;\n",
       "    }\n",
       "\n",
       "    .dataframe thead th {\n",
       "        text-align: right;\n",
       "    }\n",
       "</style>\n",
       "<table border=\"1\" class=\"dataframe\">\n",
       "  <thead>\n",
       "    <tr style=\"text-align: right;\">\n",
       "      <th></th>\n",
       "      <th>business_id</th>\n",
       "      <th>stars</th>\n",
       "      <th>overall_positive_sentiment_score</th>\n",
       "      <th>sentiment</th>\n",
       "    </tr>\n",
       "  </thead>\n",
       "  <tbody>\n",
       "    <tr>\n",
       "      <th>0</th>\n",
       "      <td>fnZrZlqW1Z8iWgTVDfv_MA</td>\n",
       "      <td>2.5</td>\n",
       "      <td>1.00</td>\n",
       "      <td>neutral</td>\n",
       "    </tr>\n",
       "    <tr>\n",
       "      <th>1</th>\n",
       "      <td>fhNf_sg-XzZ3e7HEVGuOZg</td>\n",
       "      <td>3.0</td>\n",
       "      <td>0.75</td>\n",
       "      <td>neutral</td>\n",
       "    </tr>\n",
       "    <tr>\n",
       "      <th>2</th>\n",
       "      <td>OWkS1FXNJbozn-qPg3LWxg</td>\n",
       "      <td>4.5</td>\n",
       "      <td>1.00</td>\n",
       "      <td>positive</td>\n",
       "    </tr>\n",
       "    <tr>\n",
       "      <th>3</th>\n",
       "      <td>MTx-Zdl_KcU_z9G832XAjg</td>\n",
       "      <td>2.5</td>\n",
       "      <td>1.00</td>\n",
       "      <td>neutral</td>\n",
       "    </tr>\n",
       "    <tr>\n",
       "      <th>4</th>\n",
       "      <td>Q_dh08clYUPj13GmCRzIVA</td>\n",
       "      <td>4.0</td>\n",
       "      <td>0.75</td>\n",
       "      <td>positive</td>\n",
       "    </tr>\n",
       "  </tbody>\n",
       "</table>\n",
       "</div>"
      ],
      "text/plain": [
       "              business_id  stars  overall_positive_sentiment_score sentiment\n",
       "0  fnZrZlqW1Z8iWgTVDfv_MA    2.5                              1.00   neutral\n",
       "1  fhNf_sg-XzZ3e7HEVGuOZg    3.0                              0.75   neutral\n",
       "2  OWkS1FXNJbozn-qPg3LWxg    4.5                              1.00  positive\n",
       "3  MTx-Zdl_KcU_z9G832XAjg    2.5                              1.00   neutral\n",
       "4  Q_dh08clYUPj13GmCRzIVA    4.0                              0.75  positive"
      ]
     },
     "execution_count": 27,
     "metadata": {},
     "output_type": "execute_result"
    }
   ],
   "source": [
    "data.head()"
   ]
  },
  {
   "cell_type": "markdown",
   "metadata": {},
   "source": [
    "## Creating data matrix and labels"
   ]
  },
  {
   "cell_type": "code",
   "execution_count": 28,
   "metadata": {},
   "outputs": [
    {
     "data": {
      "text/html": [
       "<div>\n",
       "<style scoped>\n",
       "    .dataframe tbody tr th:only-of-type {\n",
       "        vertical-align: middle;\n",
       "    }\n",
       "\n",
       "    .dataframe tbody tr th {\n",
       "        vertical-align: top;\n",
       "    }\n",
       "\n",
       "    .dataframe thead th {\n",
       "        text-align: right;\n",
       "    }\n",
       "</style>\n",
       "<table border=\"1\" class=\"dataframe\">\n",
       "  <thead>\n",
       "    <tr style=\"text-align: right;\">\n",
       "      <th></th>\n",
       "      <th>overall_positive_sentiment_score</th>\n",
       "    </tr>\n",
       "  </thead>\n",
       "  <tbody>\n",
       "    <tr>\n",
       "      <th>0</th>\n",
       "      <td>1.00</td>\n",
       "    </tr>\n",
       "    <tr>\n",
       "      <th>1</th>\n",
       "      <td>0.75</td>\n",
       "    </tr>\n",
       "    <tr>\n",
       "      <th>2</th>\n",
       "      <td>1.00</td>\n",
       "    </tr>\n",
       "    <tr>\n",
       "      <th>3</th>\n",
       "      <td>1.00</td>\n",
       "    </tr>\n",
       "    <tr>\n",
       "      <th>4</th>\n",
       "      <td>0.75</td>\n",
       "    </tr>\n",
       "  </tbody>\n",
       "</table>\n",
       "</div>"
      ],
      "text/plain": [
       "   overall_positive_sentiment_score\n",
       "0                              1.00\n",
       "1                              0.75\n",
       "2                              1.00\n",
       "3                              1.00\n",
       "4                              0.75"
      ]
     },
     "execution_count": 28,
     "metadata": {},
     "output_type": "execute_result"
    }
   ],
   "source": [
    "x = data[['overall_positive_sentiment_score']]\n",
    "x.head()"
   ]
  },
  {
   "cell_type": "code",
   "execution_count": 29,
   "metadata": {},
   "outputs": [
    {
     "data": {
      "text/plain": [
       "array(['neutral', 'neutral', 'positive', ..., 'positive', 'positive',\n",
       "       'neutral'], dtype=object)"
      ]
     },
     "execution_count": 29,
     "metadata": {},
     "output_type": "execute_result"
    }
   ],
   "source": [
    "y = data[['sentiment']].values.ravel()\n",
    "y"
   ]
  },
  {
   "cell_type": "code",
   "execution_count": 30,
   "metadata": {},
   "outputs": [],
   "source": [
    "#Need to plot the graph for classifiers vs accuracies\n",
    "classifiers = []\n",
    "accuracies = []"
   ]
  },
  {
   "cell_type": "code",
   "execution_count": 31,
   "metadata": {},
   "outputs": [],
   "source": [
    "#Split the data into 70-30 parts\n",
    "X_train, X_test, y_train, y_test = train_test_split(x, y, test_size=0.3)"
   ]
  },
  {
   "cell_type": "markdown",
   "metadata": {},
   "source": [
    "   ## Evaluation function for predicted and actual sentiment data"
   ]
  },
  {
   "cell_type": "code",
   "execution_count": 32,
   "metadata": {},
   "outputs": [],
   "source": [
    "def evaluation(y_train,pred_train,y_test,pred_test,classifier):\n",
    "      avg=None\n",
    "      print(\"Evaluations for \",classifier)\n",
    "      metric = pd.DataFrame([[0]*4]*2,columns=['PRECISION','RECALL','F1_SCORE','ACCURACY'],index=['Train','Test'],dtype='float32')\n",
    "      metric['PRECISION']['Train'] = np.mean(precision_score(pred_train, y_train, average=avg,labels=np.unique(pred_train)))\n",
    "      metric['RECALL']['Train'] = np.mean(recall_score(pred_train, y_train, average=avg,labels=np.unique(pred_train)))\n",
    "      metric['F1_SCORE']['Train'] = np.mean(f1_score(pred_train, y_train, average=avg,labels=np.unique(pred_train)))\n",
    "      metric['ACCURACY']['Train'] = accuracy_score(pred_train, y_train)\n",
    "      metric['PRECISION']['Test'] = np.mean(precision_score(pred_test, y_test, average=avg,labels=np.unique(pred_test)))\n",
    "      metric['RECALL']['Test'] = np.mean(recall_score(pred_test, y_test, average=avg,labels=np.unique(pred_test)))\n",
    "      metric['F1_SCORE']['Test'] = np.mean(f1_score(pred_test, y_test, average=avg,labels=np.unique(pred_test)))\n",
    "      metric['ACCURACY']['Test'] = accuracy_score(pred_test, y_test)\n",
    "      print(metric)"
   ]
  },
  {
   "cell_type": "markdown",
   "metadata": {},
   "source": [
    "## SVM using RBF kernels"
   ]
  },
  {
   "cell_type": "code",
   "execution_count": 33,
   "metadata": {},
   "outputs": [
    {
     "name": "stdout",
     "output_type": "stream",
     "text": [
      "Evaluations for  SVM Classifier\n",
      "       PRECISION    RECALL  F1_SCORE  ACCURACY\n",
      "Train        1.0  0.683460  0.811971  0.683460\n",
      "Test         1.0  0.670177  0.802522  0.670177\n"
     ]
    }
   ],
   "source": [
    "clf = svm.SVC(kernel = 'rbf', C = 100) \n",
    "clf = clf.fit(X_train, y_train)\n",
    "\n",
    "pred_train = clf.predict(X_train)\n",
    "pred_test = clf.predict(X_test)\n",
    "\n",
    "accuracy = accuracy_score(pred_test, y_test)\n",
    "classifiers.append('RBF_svm')\n",
    "accuracies.append(accuracy)\n",
    "evaluation(y_train,pred_train,y_test,pred_test,\"SVM Classifier\")"
   ]
  },
  {
   "cell_type": "markdown",
   "metadata": {},
   "source": [
    "## Decision Tree"
   ]
  },
  {
   "cell_type": "code",
   "execution_count": 34,
   "metadata": {},
   "outputs": [
    {
     "name": "stdout",
     "output_type": "stream",
     "text": [
      "Evaluations for  Decision Tree Classifier\n",
      "       PRECISION    RECALL  F1_SCORE  ACCURACY\n",
      "Train   0.581916  0.585387  0.561818  0.694629\n",
      "Test    0.564433  0.559370  0.537053  0.673503\n"
     ]
    }
   ],
   "source": [
    "clf = tree.DecisionTreeClassifier(max_depth = 5) \n",
    "clf = clf.fit(X_train, y_train)\n",
    "\n",
    "pred_train = clf.predict(X_train)\n",
    "pred_test = clf.predict(X_test)\n",
    "\n",
    "accuracy = accuracy_score(pred_test, y_test)\n",
    "classifiers.append('DecisionTree')\n",
    "accuracies.append(accuracy)\n",
    "evaluation(y_train,pred_train,y_test,pred_test,\"Decision Tree Classifier\")"
   ]
  },
  {
   "cell_type": "markdown",
   "metadata": {},
   "source": [
    "## Logistic Regression"
   ]
  },
  {
   "cell_type": "code",
   "execution_count": 35,
   "metadata": {},
   "outputs": [
    {
     "name": "stdout",
     "output_type": "stream",
     "text": [
      "Evaluations for  Logistic Regression\n",
      "       PRECISION    RECALL  F1_SCORE  ACCURACY\n",
      "Train   0.534271  0.542461  0.490896  0.683460\n",
      "Test    0.518712  0.499899  0.463668  0.661863\n"
     ]
    }
   ],
   "source": [
    "clf = LogisticRegression()\n",
    "clf = clf.fit(X_train, y_train)\n",
    "\n",
    "pred_train = clf.predict(X_train)\n",
    "pred_test = clf.predict(X_test)\n",
    "\n",
    "accuracy = accuracy_score(pred_test, y_test)\n",
    "classifiers.append('LR')\n",
    "accuracies.append(accuracy)\n",
    "evaluation(y_train,pred_train,y_test,pred_test,\"Logistic Regression\")"
   ]
  },
  {
   "cell_type": "markdown",
   "metadata": {},
   "source": [
    "## Gaussian Naive Bayes"
   ]
  },
  {
   "cell_type": "code",
   "execution_count": 36,
   "metadata": {},
   "outputs": [
    {
     "name": "stdout",
     "output_type": "stream",
     "text": [
      "Evaluations for  Gaussian Naive Bayes Classifier\n",
      "       PRECISION    RECALL  F1_SCORE  ACCURACY\n",
      "Train   0.546935  0.554206  0.511936  0.686549\n",
      "Test    0.530054  0.514057  0.485186  0.663526\n"
     ]
    }
   ],
   "source": [
    "clf = GaussianNB() \n",
    "clf = clf.fit(X_train, y_train)\n",
    "\n",
    "pred_train = clf.predict(X_train)\n",
    "pred_test = clf.predict(X_test)\n",
    "\n",
    "\n",
    "accuracy = accuracy_score(pred_test, y_test)\n",
    "classifiers.append('GaussNB')\n",
    "accuracies.append(accuracy)\n",
    "evaluation(y_train,pred_train,y_test,pred_test,\"Gaussian Naive Bayes Classifier\")"
   ]
  },
  {
   "cell_type": "markdown",
   "metadata": {},
   "source": [
    "## K-Nearest Neighbors "
   ]
  },
  {
   "cell_type": "code",
   "execution_count": 37,
   "metadata": {},
   "outputs": [
    {
     "name": "stdout",
     "output_type": "stream",
     "text": [
      "Evaluations for  KNN Classifier\n",
      "       PRECISION    RECALL  F1_SCORE  ACCURACY\n",
      "Train   0.449935  0.486104  0.429482  0.680371\n",
      "Test    0.417442  0.439991  0.398259  0.651330\n"
     ]
    }
   ],
   "source": [
    "clf = KNeighborsClassifier(n_neighbors=5)\n",
    "clf = clf.fit(X_train, y_train)\n",
    "\n",
    "pred_train = clf.predict(X_train)\n",
    "pred_test = clf.predict(X_test)\n",
    "\n",
    "accuracy = accuracy_score(pred_test, y_test)\n",
    "classifiers.append('KNN')\n",
    "accuracies.append(accuracy)\n",
    "evaluation(y_train,pred_train,y_test,pred_test,\"KNN Classifier\")"
   ]
  },
  {
   "cell_type": "markdown",
   "metadata": {},
   "source": [
    "## Random Forest"
   ]
  },
  {
   "cell_type": "code",
   "execution_count": 39,
   "metadata": {},
   "outputs": [
    {
     "name": "stdout",
     "output_type": "stream",
     "text": [
      "Evaluations for  Random Forest Classifier\n",
      "       PRECISION    RECALL  F1_SCORE  ACCURACY\n",
      "Train   0.545370  0.608208  0.503982  0.694867\n",
      "Test    0.542614  0.600657  0.495466  0.681264\n"
     ]
    }
   ],
   "source": [
    "clf = RandomForestClassifier(max_depth=5, n_estimators=10, max_features=1)\n",
    "clf = clf.fit(X_train, y_train)\n",
    "\n",
    "pred_train = clf.predict(X_train)\n",
    "pred_test = clf.predict(X_test)\n",
    "\n",
    "\n",
    "accuracy = accuracy_score(pred_test, y_test)\n",
    "classifiers.append('RandomForest')\n",
    "accuracies.append(accuracy)\n",
    "evaluation(y_train,pred_train,y_test,pred_test,\"Random Forest Classifier\")"
   ]
  },
  {
   "cell_type": "markdown",
   "metadata": {},
   "source": [
    "## AdaBoost"
   ]
  },
  {
   "cell_type": "code",
   "execution_count": 40,
   "metadata": {},
   "outputs": [
    {
     "name": "stdout",
     "output_type": "stream",
     "text": [
      "Evaluations for  Ada Boost Classifier\n",
      "       PRECISION    RECALL  F1_SCORE  ACCURACY\n",
      "Train   0.573731  0.565354  0.551991  0.686787\n",
      "Test    0.570080  0.560108  0.545077  0.672949\n"
     ]
    }
   ],
   "source": [
    "clf = AdaBoostClassifier()\n",
    "clf = clf.fit(X_train, y_train)\n",
    "\n",
    "pred_train = clf.predict(X_train)\n",
    "pred_test = clf.predict(X_test)\n",
    "\n",
    "\n",
    "accuracy = accuracy_score(pred_test, y_test)\n",
    "classifiers.append('AdaBoost')\n",
    "accuracies.append(accuracy)\n",
    "evaluation(y_train,pred_train,y_test,pred_test,\"Ada Boost Classifier\")"
   ]
  },
  {
   "cell_type": "markdown",
   "metadata": {},
   "source": [
    "## Multi-layer perceptron"
   ]
  },
  {
   "cell_type": "code",
   "execution_count": 41,
   "metadata": {},
   "outputs": [
    {
     "name": "stdout",
     "output_type": "stream",
     "text": [
      "Evaluations for  Multi-layer Perceptron Classifier\n",
      "       PRECISION    RECALL  F1_SCORE  ACCURACY\n",
      "Train   0.532220  0.538570  0.487455  0.682747\n",
      "Test    0.518452  0.501989  0.462482  0.662417\n"
     ]
    }
   ],
   "source": [
    "clf = MLPClassifier(alpha=1, max_iter=1000)\n",
    "clf = clf.fit(X_train, y_train)\n",
    "\n",
    "pred_train = clf.predict(X_train)\n",
    "pred_test = clf.predict(X_test)\n",
    "\n",
    "accuracy = accuracy_score(pred_test, y_test)\n",
    "classifiers.append('MLPerceptron')\n",
    "accuracies.append(accuracy)\n",
    "evaluation(y_train,pred_train,y_test,pred_test,\"Multi-layer Perceptron Classifier\")"
   ]
  },
  {
   "cell_type": "code",
   "execution_count": 42,
   "metadata": {},
   "outputs": [
    {
     "data": {
      "image/png": "[encoded data removed]",
      "text/plain": [
       "<Figure size 936x432 with 1 Axes>"
      ]
     },
     "metadata": {
      "needs_background": "light"
     },
     "output_type": "display_data"
    }
   ],
   "source": [
    "plt.figure(figsize=(13,6))\n",
    "sns.set_context(\"paper\", font_scale=1.6)\n",
    "plt.scatter(classifiers, accuracies, s=600, c=\"orange\", alpha=0.6)\n",
    "plt.title('Accuracy vs Classifiers using reviews sentiment score')\n",
    "plt.show()"
   ]
  },
  {
   "cell_type": "code",
   "execution_count": 44,
   "metadata": {},
   "outputs": [],
   "source": [
    "classifiers_old=classifiers\n",
    "accuracies_old=accuracies"
   ]
  },
  {
   "cell_type": "markdown",
   "metadata": {},
   "source": [
    "## After adding sentiment score from tips and check-ins data"
   ]
  },
  {
   "cell_type": "code",
   "execution_count": 70,
   "metadata": {},
   "outputs": [],
   "source": [
    "# Scale feature check-ins\n",
    "x = data[['overall_positive_sentiment_score','overall_positive_sentiment_score_tips','check-ins']]\n",
    "scaler = StandardScaler()\n",
    "scaler.fit(x)\n",
    "x = scaler.transform(x)\n",
    "# x"
   ]
  },
  {
   "cell_type": "code",
   "execution_count": 71,
   "metadata": {},
   "outputs": [
    {
     "data": {
      "text/plain": [
       "array(['neutral', 'neutral', 'positive', ..., 'positive', 'positive',\n",
       "       'neutral'], dtype=object)"
      ]
     },
     "execution_count": 71,
     "metadata": {},
     "output_type": "execute_result"
    }
   ],
   "source": [
    "y = data[['sentiment']].values.ravel()\n",
    "y"
   ]
  },
  {
   "cell_type": "code",
   "execution_count": 72,
   "metadata": {},
   "outputs": [],
   "source": [
    "classifiers = []\n",
    "accuracies = []"
   ]
  },
  {
   "cell_type": "code",
   "execution_count": 73,
   "metadata": {},
   "outputs": [],
   "source": [
    "X_train, X_test, y_train, y_test = train_test_split(x, y, test_size=0.3)"
   ]
  },
  {
   "cell_type": "markdown",
   "metadata": {},
   "source": [
    "## SVM using RBF kernels"
   ]
  },
  {
   "cell_type": "code",
   "execution_count": 74,
   "metadata": {},
   "outputs": [
    {
     "name": "stdout",
     "output_type": "stream",
     "text": [
      "Evaluations for  SVM Classifier\n",
      "       PRECISION    RECALL  F1_SCORE  ACCURACY\n",
      "Train   0.399390  0.657921  0.395733  0.705561\n",
      "Test    0.386561  0.610329  0.375609  0.706208\n"
     ]
    }
   ],
   "source": [
    "clf = svm.SVC(kernel = 'rbf', C = 100) \n",
    "clf = clf.fit(X_train, y_train)\n",
    "\n",
    "pred_train = clf.predict(X_train)\n",
    "pred_test = clf.predict(X_test)\n",
    "\n",
    "accuracy = accuracy_score(pred_test, y_test)\n",
    "classifiers.append('RBF_svm')\n",
    "accuracies.append(accuracy)\n",
    "evaluation(y_train,pred_train,y_test,pred_test,\"SVM Classifier\")"
   ]
  },
  {
   "cell_type": "markdown",
   "metadata": {},
   "source": [
    "## Decision Tree"
   ]
  },
  {
   "cell_type": "code",
   "execution_count": 75,
   "metadata": {},
   "outputs": [
    {
     "name": "stdout",
     "output_type": "stream",
     "text": [
      "Evaluations for  Decision Tree Classifier\n",
      "       PRECISION    RECALL  F1_SCORE  ACCURACY\n",
      "Train   0.434132  0.637020  0.438589  0.715542\n",
      "Test    0.412357  0.576304  0.407769  0.708980\n"
     ]
    }
   ],
   "source": [
    "clf = tree.DecisionTreeClassifier(max_depth = 5) \n",
    "clf = clf.fit(X_train, y_train)\n",
    "\n",
    "pred_train = clf.predict(X_train)\n",
    "pred_test = clf.predict(X_test)\n",
    "\n",
    "accuracy = accuracy_score(pred_test, y_test)\n",
    "classifiers.append('DecisionTree')\n",
    "accuracies.append(accuracy)\n",
    "evaluation(y_train,pred_train,y_test,pred_test,\"Decision Tree Classifier\")"
   ]
  },
  {
   "cell_type": "markdown",
   "metadata": {},
   "source": [
    "## Logistic Regression"
   ]
  },
  {
   "cell_type": "code",
   "execution_count": 76,
   "metadata": {},
   "outputs": [
    {
     "name": "stdout",
     "output_type": "stream",
     "text": [
      "Evaluations for  Logistic Regression\n",
      "       PRECISION    RECALL  F1_SCORE  ACCURACY\n",
      "Train   0.533859  0.541385  0.488057  0.677519\n",
      "Test    0.528779  0.512056  0.482912  0.682927\n"
     ]
    }
   ],
   "source": [
    "clf = LogisticRegression()\n",
    "clf = clf.fit(X_train, y_train)\n",
    "\n",
    "pred_train = clf.predict(X_train)\n",
    "pred_test = clf.predict(X_test)\n",
    "\n",
    "accuracy = accuracy_score(pred_test, y_test)\n",
    "classifiers.append('LR')\n",
    "accuracies.append(accuracy)\n",
    "evaluation(y_train,pred_train,y_test,pred_test,\"Logistic Regression\")"
   ]
  },
  {
   "cell_type": "markdown",
   "metadata": {},
   "source": [
    "## Gaussian Naive Bayes"
   ]
  },
  {
   "cell_type": "code",
   "execution_count": 77,
   "metadata": {},
   "outputs": [
    {
     "name": "stdout",
     "output_type": "stream",
     "text": [
      "Evaluations for  Gaussian Naive Bayes Classifier\n",
      "       PRECISION    RECALL  F1_SCORE  ACCURACY\n",
      "Train   0.465031  0.430545  0.378971  0.648051\n",
      "Test    0.485096  0.507384  0.398837  0.663526\n"
     ]
    }
   ],
   "source": [
    "clf = GaussianNB() \n",
    "clf = clf.fit(X_train, y_train)\n",
    "\n",
    "pred_train = clf.predict(X_train)\n",
    "pred_test = clf.predict(X_test)\n",
    "\n",
    "\n",
    "accuracy = accuracy_score(pred_test, y_test)\n",
    "classifiers.append('GaussNB')\n",
    "accuracies.append(accuracy)\n",
    "evaluation(y_train,pred_train,y_test,pred_test,\"Gaussian Naive Bayes Classifier\")"
   ]
  },
  {
   "cell_type": "markdown",
   "metadata": {},
   "source": [
    "## K-Nearest Neighbors "
   ]
  },
  {
   "cell_type": "code",
   "execution_count": 78,
   "metadata": {},
   "outputs": [
    {
     "name": "stdout",
     "output_type": "stream",
     "text": [
      "Evaluations for  KNN Classifier\n",
      "       PRECISION    RECALL  F1_SCORE  ACCURACY\n",
      "Train   0.596854  0.638291  0.613590  0.751901\n",
      "Test    0.467720  0.482231  0.472938  0.664634\n"
     ]
    }
   ],
   "source": [
    "clf = KNeighborsClassifier(n_neighbors=5)\n",
    "clf = clf.fit(X_train, y_train)\n",
    "\n",
    "pred_train = clf.predict(X_train)\n",
    "pred_test = clf.predict(X_test)\n",
    "\n",
    "accuracy = accuracy_score(pred_test, y_test)\n",
    "classifiers.append('KNN')\n",
    "accuracies.append(accuracy)\n",
    "evaluation(y_train,pred_train,y_test,pred_test,\"KNN Classifier\")"
   ]
  },
  {
   "cell_type": "markdown",
   "metadata": {},
   "source": [
    "## Random Forest"
   ]
  },
  {
   "cell_type": "code",
   "execution_count": 80,
   "metadata": {},
   "outputs": [
    {
     "name": "stdout",
     "output_type": "stream",
     "text": [
      "Evaluations for  Random Forest Classifier\n",
      "       PRECISION    RECALL  F1_SCORE  ACCURACY\n",
      "Train   0.393400  0.659108  0.382209  0.709125\n",
      "Test    0.381564  0.503727  0.366093  0.706763\n"
     ]
    }
   ],
   "source": [
    "clf = RandomForestClassifier(max_depth=5, n_estimators=10, max_features=1)\n",
    "clf = clf.fit(X_train, y_train)\n",
    "\n",
    "pred_train = clf.predict(X_train)\n",
    "pred_test = clf.predict(X_test)\n",
    "\n",
    "\n",
    "accuracy = accuracy_score(pred_test, y_test)\n",
    "classifiers.append('RandomForest')\n",
    "accuracies.append(accuracy)\n",
    "evaluation(y_train,pred_train,y_test,pred_test,\"Random Forest Classifier\")"
   ]
  },
  {
   "cell_type": "markdown",
   "metadata": {},
   "source": [
    "# AdaBoost"
   ]
  },
  {
   "cell_type": "code",
   "execution_count": 81,
   "metadata": {},
   "outputs": [
    {
     "name": "stdout",
     "output_type": "stream",
     "text": [
      "Evaluations for  Ada Boost Classifier\n",
      "       PRECISION    RECALL  F1_SCORE  ACCURACY\n",
      "Train   0.430728  0.539345  0.443588  0.694392\n",
      "Test    0.438130  0.540873  0.451939  0.708980\n"
     ]
    }
   ],
   "source": [
    "clf = AdaBoostClassifier()\n",
    "clf = clf.fit(X_train, y_train)\n",
    "\n",
    "pred_train = clf.predict(X_train)\n",
    "pred_test = clf.predict(X_test)\n",
    "\n",
    "\n",
    "accuracy = accuracy_score(pred_test, y_test)\n",
    "classifiers.append('AdaBoost')\n",
    "accuracies.append(accuracy)\n",
    "evaluation(y_train,pred_train,y_test,pred_test,\"Ada Boost Classifier\")"
   ]
  },
  {
   "cell_type": "markdown",
   "metadata": {},
   "source": [
    "## Multi-layer Perceptron"
   ]
  },
  {
   "cell_type": "code",
   "execution_count": 82,
   "metadata": {},
   "outputs": [
    {
     "name": "stdout",
     "output_type": "stream",
     "text": [
      "Evaluations for  Multi-layer Perceptron Classifier\n",
      "       PRECISION    RECALL  F1_SCORE  ACCURACY\n",
      "Train   0.545527  0.547553  0.505975  0.682985\n",
      "Test    0.549017  0.546328  0.513158  0.692350\n"
     ]
    }
   ],
   "source": [
    "clf = MLPClassifier(alpha=1, max_iter=1000)\n",
    "clf = clf.fit(X_train, y_train)\n",
    "\n",
    "pred_train = clf.predict(X_train)\n",
    "pred_test = clf.predict(X_test)\n",
    "\n",
    "accuracy = accuracy_score(pred_test, y_test)\n",
    "classifiers.append('MLPerceptron')\n",
    "accuracies.append(accuracy)\n",
    "evaluation(y_train,pred_train,y_test,pred_test,\"Multi-layer Perceptron Classifier\")"
   ]
  },
  {
   "cell_type": "code",
   "execution_count": 83,
   "metadata": {},
   "outputs": [
    {
     "data": {
      "image/png": "[encoded data removed]",
      "text/plain": [
       "<Figure size 936x432 with 1 Axes>"
      ]
     },
     "metadata": {
      "needs_background": "light"
     },
     "output_type": "display_data"
    }
   ],
   "source": [
    "plt.figure(figsize=(13,6))\n",
    "sns.set_context(\"paper\", font_scale=1.6)\n",
    "plt.scatter(classifiers, accuracies, s=600, c=\"orange\", alpha=0.6)\n",
    "plt.title('Accuracy vs Classifiers using reviews and tips sentiment score and check-ins')\n",
    "plt.show()"
   ]
  },
  {
   "cell_type": "code",
   "execution_count": 97,
   "metadata": {},
   "outputs": [
    {
     "data": {
      "image/png": "[encoded data removed]",
      "text/plain": [
       "<Figure size 1080x432 with 1 Axes>"
      ]
     },
     "metadata": {
      "needs_background": "light"
     },
     "output_type": "display_data"
    }
   ],
   "source": [
    "plt.figure(figsize=(15,6))\n",
    "sns.set_context(\"paper\", font_scale=1.6)\n",
    "plt.scatter(classifiers, accuracies, s=600, c=\"orange\", alpha=0.6)\n",
    "plt.scatter(classifiers_old, accuracies_old, s=600, c=\"purple\", alpha=0.6)\n",
    "plt.legend([\"Improved\",\"Only Reviews\"])\n",
    "plt.title('Accuracy vs Classifiers using reviews and tips sentiment score and check-ins')\n",
    "plt.show()"
   ]
  }
 ],
 "metadata": {
  "kernelspec": {
   "display_name": "Python 3",
   "language": "python",
   "name": "python3"
  },
  "language_info": {
   "codemirror_mode": {
    "name": "ipython",
    "version": 3
   },
   "file_extension": ".py",
   "mimetype": "text/x-python",
   "name": "python",
   "nbconvert_exporter": "python",
   "pygments_lexer": "ipython3",
   "version": "3.7.3"
  }
 },
 "nbformat": 4,
 "nbformat_minor": 2
}
